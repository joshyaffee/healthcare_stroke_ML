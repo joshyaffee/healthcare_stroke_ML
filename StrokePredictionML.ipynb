{
  "nbformat": 4,
  "nbformat_minor": 0,
  "metadata": {
    "colab": {
      "provenance": []
    },
    "kernelspec": {
      "name": "python3",
      "display_name": "Python 3"
    },
    "language_info": {
      "name": "python"
    }
  },
  "cells": [
    {
      "cell_type": "markdown",
      "source": [
        "# **Stroke Data ML Project**\n",
        "Joshua Yaffee, George Lyu \\\\\n",
        "INDE 577, Spring 2023"
      ],
      "metadata": {
        "id": "B15MfNAOCt3z"
      }
    },
    {
      "cell_type": "markdown",
      "source": [
        "Strokes are a serious medical condition that occur when the blood supply to the brain is disrupted, either by a blood clot or a ruptured blood vessel. Strokes can cause significant disability or even death, and early detection and prevention is critical for improving patient outcomes.\n",
        "\n",
        "Predicting strokes is important in healthcare for several reasons. First, strokes are a leading cause of death and disability worldwide, and early detection and intervention can help reduce the risk of stroke and improve patient outcomes. Second, predicting strokes can help identify patients who are at higher risk of stroke and enable healthcare providers to provide preventative measures, such as medication or lifestyle changes, to reduce that risk. Third, predicting strokes can also help healthcare providers allocate resources more efficiently, by identifying patients who are most likely to benefit from additional screening or intervention.\n",
        "\n",
        "Common tools used to predict strokes include traditional risk assessment tools, such as the Framingham risk score, which use demographic and clinical factors to estimate a patient's risk of developing cardiovascular disease, including stroke. More recently, machine learning algorithms have been developed that can predict stroke risk using a wider range of factors, such as genetic and lifestyle factors, and can provide more personalized risk assessments.\n",
        "\n",
        "Predicting strokes can be challenging for doctors, as the risk factors for stroke are complex and multifactorial. In addition, stroke risk can be influenced by a wide range of factors, including age, sex, lifestyle, genetics, and medical history. As a result, traditional risk assessment tools may not always provide accurate predictions, and doctors may not have access to all of the relevant information needed to make a reliable prediction. Machine learning algorithms can help address these challenges by analyzing large amounts of data and identifying patterns and risk factors associated with stroke."
      ],
      "metadata": {
        "id": "BktLDmdzV-l_"
      }
    },
    {
      "cell_type": "markdown",
      "source": [
        "##Modeling Strategy\n",
        "We will employ the following analysis strategy for using machine learning to predict strokes.\n",
        "\n",
        "\n",
        "1.   Evaluate dataset features\n",
        "2.   Oversample the dataset\n",
        "3.   Attempt several models\n",
        "4.   Ensemble of models"
      ],
      "metadata": {
        "id": "LjHaUbKIWPcy"
      }
    },
    {
      "cell_type": "markdown",
      "source": [
        "##Dataset\n",
        "We are working with the `healthcare-dataset-stroke-data.csv` dataset. It contains patient information, including categorical variable like smoking status and continuous variables like BMI. Make sure `healthcare-dataset-stroke-data.csv` is uploaded for this runtime in `Files`.\n",
        "\n",
        "We decided to manually add the Framinghouse Risk Score (FRS) as a predictor variable by calculating this value for each patient. FRS is a predictor of risk for cardiovascular disease in the next ten years. If we had more time, we might have instead chosen to use the General Framinghouse Risk Score, which predicts a wider range of illnesses that includes specifically strokes."
      ],
      "metadata": {
        "id": "jsIv8RBn_YXl"
      }
    },
    {
      "cell_type": "code",
      "source": [
        "# !pip install git+https://github.com/fonnesbeck/framingham_risk.git\n",
        "\n",
        "from imblearn.over_sampling import SMOTE\n",
        "from sklearn import metrics\n",
        "from sklearn.metrics import accuracy_score, precision_score, recall_score, f1_score, confusion_matrix\n",
        "from sklearn.tree import DecisionTreeClassifier\n",
        "from sklearn.ensemble import RandomForestClassifier\n",
        "from sklearn.ensemble import GradientBoostingClassifier\n",
        "import numpy as np\n",
        "import pandas as pd\n",
        "import tensorflow as tf\n",
        "from tensorflow import keras\n",
        "import sklearn as sk\n",
        "from sklearn.model_selection import train_test_split\n",
        "from sklearn.preprocessing import LabelEncoder\n",
        "from frs import frs\n",
        "import matplotlib.pyplot as plt\n",
        "import plotly.express as px\n"
      ],
      "metadata": {
        "id": "N_bzDS04-cUY"
      },
      "execution_count": 158,
      "outputs": []
    },
    {
      "cell_type": "code",
      "source": [
        "# Import dataset\n",
        "data = pd.read_csv('https://raw.githubusercontent.com/joshyaffee/healthcare_stroke_ML/main/healthcare-dataset-stroke-data.csv', index_col=\"id\")\n",
        "\n",
        "# Fill in NA values. All the NA values are under the BMI column.\n",
        "# We will in NA values by assigning the average BMI for the gender.\n",
        "data['bmi'] = data.groupby('gender')['bmi'].apply(lambda x: x.fillna(x.mean()))\n",
        "\n",
        "# Framingham Risk Score: Add the FRS as a feature column to the dataset\n",
        "data['frs'] = [0.0] * len(data.index)\n",
        "for id in data.index:\n",
        "    gen = data.gender[id][0]\n",
        "    if gen != \"M\":\n",
        "        gen = \"F\"\n",
        "    data.frs[id] = frs(gender=gen,\n",
        "                        time=10, \n",
        "                        age=data.age[id], \n",
        "                        bmi=data.bmi[id],\n",
        "                        sbp=120,\n",
        "                        ht_treat=data.hypertension[id], \n",
        "                        smk=data.smoking_status[id] == \"smoked\" or data.smoking_status[id] == \"formerly_smoked\", \n",
        "                        dia=False)\n",
        "    \n",
        "# Encode categorical data\n",
        "le = LabelEncoder()\n",
        "data_encoded = data.copy()\n",
        "for column in ('gender', 'ever_married', 'work_type', 'Residence_type', 'smoking_status'):\n",
        "    data_encoded[column] = le.fit_transform(data[column])\n",
        "\n",
        "# Split data into training and testing sets\n",
        "X_traintest, X_validate, y_traintest, y_validate = train_test_split(data_encoded.drop('stroke', axis=1), data_encoded['stroke'], test_size=0.15, random_state=42)\n",
        "X_train, X_test, y_train, y_test = train_test_split(X_traintest, y_traintest, test_size=0.2, random_state=46)"
      ],
      "metadata": {
        "id": "A4GaH8VZ-bs5"
      },
      "execution_count": null,
      "outputs": []
    },
    {
      "cell_type": "markdown",
      "source": [
        "Let's familiarize ourselves with the (imbalanced) data. First, we visualize the distribution of the stroke observations. Then, we show the relationship between stroke and the other categorical variables. Finally, we show the relationship between stroke and the continuous variables."
      ],
      "metadata": {
        "id": "BxTbYfMiXCgv"
      }
    },
    {
      "cell_type": "code",
      "source": [
        "plt.hist(data.stroke)\n",
        "plt.xlabel(\"Stroke indicator\")\n",
        "plt.ylabel(\"Count\")\n",
        "plt.title(\"Stroke distribution\")\n",
        "plt.show()\n",
        "\n",
        "print(np.mean(data.stroke))"
      ],
      "metadata": {
        "colab": {
          "base_uri": "https://localhost:8080/",
          "height": 489
        },
        "id": "aoK-VNCadmUB",
        "outputId": "b96d301f-81bc-499d-913a-d52aed0f5d6b"
      },
      "execution_count": 160,
      "outputs": [
        {
          "output_type": "display_data",
          "data": {
            "text/plain": [
              "<Figure size 640x480 with 1 Axes>"
            ],
            "image/png": "[encoded data removed]"
          },
          "metadata": {}
        },
        {
          "output_type": "stream",
          "name": "stdout",
          "text": [
            "0.0487279843444227\n"
          ]
        }
      ]
    },
    {
      "cell_type": "code",
      "source": [
        "# Show relation between stroke and categorical variables\n",
        "for var in data.columns:\n",
        "    if data[var].dtype != \"float64\":\n",
        "        print(var)\n",
        "        df_pivot = pd.DataFrame(np.zeros((len(data[\"stroke\"].unique()), len(data[var].unique()))), index=range(2), columns=data[var].unique())\n",
        "        for row in df_pivot.index:\n",
        "            for col in df_pivot.columns:\n",
        "                df_pivot.loc[row, col] = np.sum(np.multiply(data[\"stroke\"] == row, data[var] == col)) / np.sum(data[var] == col)\n",
        "        print(df_pivot)\n",
        "        print()\n"
      ],
      "metadata": {
        "id": "8EoOv6WKYa4_",
        "colab": {
          "base_uri": "https://localhost:8080/"
        },
        "outputId": "4bacaa3a-531c-4113-b49c-0df8438546f9"
      },
      "execution_count": 161,
      "outputs": [
        {
          "output_type": "stream",
          "name": "stdout",
          "text": [
            "gender\n",
            "       Male    Female  Other\n",
            "0  0.948936  0.952906    1.0\n",
            "1  0.051064  0.047094    0.0\n",
            "\n",
            "hypertension\n",
            "          0        1\n",
            "0  0.960321  0.86747\n",
            "1  0.039679  0.13253\n",
            "\n",
            "heart_disease\n",
            "         1         0\n",
            "0  0.82971  0.958213\n",
            "1  0.17029  0.041787\n",
            "\n",
            "ever_married\n",
            "        Yes        No\n",
            "0  0.934387  0.983495\n",
            "1  0.065613  0.016505\n",
            "\n",
            "work_type\n",
            "   Private  Self-employed  Govt_job  children  Never_worked\n",
            "0  0.94906       0.920635  0.949772  0.997089           1.0\n",
            "1  0.05094       0.079365  0.050228  0.002911           0.0\n",
            "\n",
            "Residence_type\n",
            "      Urban     Rural\n",
            "0  0.947997  0.954654\n",
            "1  0.052003  0.045346\n",
            "\n",
            "smoking_status\n",
            "   formerly smoked  never smoked    smokes  Unknown\n",
            "0         0.920904      0.952431  0.946768  0.96956\n",
            "1         0.079096      0.047569  0.053232  0.03044\n",
            "\n",
            "stroke\n",
            "     1    0\n",
            "0  0.0  1.0\n",
            "1  1.0  0.0\n",
            "\n"
          ]
        }
      ]
    },
    {
      "cell_type": "markdown",
      "source": [
        "From the categorical features, we see that `gender` and `Residence_type` don't substantially impact `stroke`. The `work_type` and `ever_married` do impact `stroke`, but this might be because these variables are highly correlated with the continuous `age` variable.\n",
        "\n",
        "It appears that the most impactful categorical variables here are `hypertension`, `heart_disease`, `smoking_status`.\n",
        "\n",
        "Let's next look at the relationship between `stroke` and the continuous variables."
      ],
      "metadata": {
        "id": "-tW3pgecYDw2"
      }
    },
    {
      "cell_type": "code",
      "source": [
        "for var in data.columns:\n",
        "    if data[var].dtype == \"float64\":\n",
        "        for row in range(2):\n",
        "            plt.hist(data[var][data[\"stroke\"] == row], label=row, density=True, alpha=0.3)\n",
        "        plt.legend()\n",
        "        plt.title(\"stroke vs \" + var)\n",
        "        plt.xlabel(var)\n",
        "        plt.ylabel(\"Density\")\n",
        "        plt.show()    "
      ],
      "metadata": {
        "id": "qbqrBpWHaz-b",
        "colab": {
          "base_uri": "https://localhost:8080/",
          "height": 1000
        },
        "outputId": "615208b7-b18f-4dbf-f072-be0157b8671b"
      },
      "execution_count": 162,
      "outputs": [
        {
          "output_type": "display_data",
          "data": {
            "text/plain": [
              "<Figure size 640x480 with 1 Axes>"
            ],
            "image/png": "[encoded data removed]"
          },
          "metadata": {}
        },
        {
          "output_type": "display_data",
          "data": {
            "text/plain": [
              "<Figure size 640x480 with 1 Axes>"
            ],
            "image/png": "[encoded data removed]"
          },
          "metadata": {}
        },
        {
          "output_type": "display_data",
          "data": {
            "text/plain": [
              "<Figure size 640x480 with 1 Axes>"
            ],
            "image/png": "[encoded data removed]"
          },
          "metadata": {}
        },
        {
          "output_type": "display_data",
          "data": {
            "text/plain": [
              "<Figure size 640x480 with 1 Axes>"
            ],
            "image/png": "[encoded data removed]"
          },
          "metadata": {}
        }
      ]
    },
    {
      "cell_type": "markdown",
      "source": [
        "`age` looks to be the strongest continuous predictor of strokes. There is a clear separation where patients over 50 years old have significantly higher chance of stroke.\n",
        "\n",
        "`frs` seems to also be a strong predictor of strokes. Patients with `frs` lower than 0.1 seem to have much lower chance of strokes.\n",
        "\n",
        "`avg_glucose_level` seems to have a moderate correlation with strokes. Higher glucose levels relate to higher chance for stroke. Oddly, there is a bimodal distribution for the `avg_glucose_level`.\n",
        "\n",
        "`bmi` seems to have no correlation with strokes."
      ],
      "metadata": {
        "id": "inz1rpnibo_U"
      }
    },
    {
      "cell_type": "markdown",
      "source": [
        "##Oversampling\n",
        "The dataset is extremely unbalanced. Less than 5% of the samples have a positive stroke value. From a machine-learning perspective, an ideal dataset should have an equal count of positive and negative observations.\n",
        "\n",
        "One way to address data unbalance is via oversampling. We can use techniques like SMOTE and ADASYN to generate synthetic stroke-positive data so that we have an equal count of positive and negative observations."
      ],
      "metadata": {
        "id": "n0GYmcZndfnV"
      }
    },
    {
      "cell_type": "markdown",
      "source": [
        "##Training and Testing"
      ],
      "metadata": {
        "id": "p6Vrj7oN155O"
      }
    },
    {
      "cell_type": "markdown",
      "source": [
        "###Neural Networks and Bootstrapping\n",
        "\n",
        "Our first attempt at predicting strokes is through neural networks. We use `tensorflow` to create a dense neural network.\n",
        "\n",
        "We use a bootstrapping approach. We generate `B` dense neural networks of the same architecture. For each model, we use a different subset of the training data. The end result is an ensemble of `B` dense neural networks.\n",
        "\n",
        "Adjust `B` downward for speedup. Results can get unreliable as `B` gets low (below 10). `B = 20` makes for ~6 minutes of training."
      ],
      "metadata": {
        "id": "hPl5kOqm_Uvr"
      }
    },
    {
      "cell_type": "code",
      "execution_count": 163,
      "metadata": {
        "id": "cGApF5jE-VtH",
        "colab": {
          "base_uri": "https://localhost:8080/"
        },
        "outputId": "c5c91316-8ccc-43c2-f98e-ba7181d723af"
      },
      "outputs": [
        {
          "output_type": "stream",
          "name": "stdout",
          "text": [
            "model #: 0\n",
            "Accuracy: 0.6939010356731876\n",
            "Precision: 0.09473684210526316\n",
            "Recall: 0.7714285714285715\n",
            "F1 score: 0.16875000000000004\n",
            "Confusion matrix:\n",
            " [[576 258]\n",
            " [  8  27]]\n",
            "model #: 1\n",
            "Accuracy: 0.8319907940161104\n",
            "Precision: 0.12582781456953643\n",
            "Recall: 0.5757575757575758\n",
            "F1 score: 0.2065217391304348\n",
            "Confusion matrix:\n",
            " [[704 132]\n",
            " [ 14  19]]\n",
            "model #: 2\n",
            "Accuracy: 0.7445339470655926\n",
            "Precision: 0.11013215859030837\n",
            "Recall: 0.5555555555555556\n",
            "F1 score: 0.18382352941176472\n",
            "Confusion matrix:\n",
            " [[622 202]\n",
            " [ 20  25]]\n",
            "model #: 3\n",
            "Accuracy: 0.7054085155350979\n",
            "Precision: 0.06896551724137931\n",
            "Recall: 0.5806451612903226\n",
            "F1 score: 0.1232876712328767\n",
            "Confusion matrix:\n",
            " [[595 243]\n",
            " [ 13  18]]\n",
            "model #: 4\n",
            "Accuracy: 0.7997698504027618\n",
            "Precision: 0.13612565445026178\n",
            "Recall: 0.7428571428571429\n",
            "F1 score: 0.23008849557522126\n",
            "Confusion matrix:\n",
            " [[669 165]\n",
            " [  9  26]]\n",
            "model #: 5\n",
            "Accuracy: 0.7848101265822784\n",
            "Precision: 0.08900523560209424\n",
            "Recall: 0.5666666666666667\n",
            "F1 score: 0.15384615384615383\n",
            "Confusion matrix:\n",
            " [[665 174]\n",
            " [ 13  17]]\n",
            "model #: 6\n",
            "Accuracy: 0.8170310701956272\n",
            "Precision: 0.07482993197278912\n",
            "Recall: 0.3235294117647059\n",
            "F1 score: 0.12154696132596683\n",
            "Confusion matrix:\n",
            " [[699 136]\n",
            " [ 23  11]]\n",
            "model #: 7\n",
            "Accuracy: 0.7698504027617952\n",
            "Precision: 0.1336405529953917\n",
            "Recall: 0.7073170731707317\n",
            "F1 score: 0.2248062015503876\n",
            "Confusion matrix:\n",
            " [[640 188]\n",
            " [ 12  29]]\n",
            "model #: 8\n",
            "Accuracy: 0.7272727272727273\n",
            "Precision: 0.10330578512396695\n",
            "Recall: 0.5555555555555556\n",
            "F1 score: 0.17421602787456447\n",
            "Confusion matrix:\n",
            " [[607 217]\n",
            " [ 20  25]]\n",
            "model #: 9\n",
            "Accuracy: 0.810126582278481\n",
            "Precision: 0.15384615384615385\n",
            "Recall: 0.5416666666666666\n",
            "F1 score: 0.23963133640552994\n",
            "Confusion matrix:\n",
            " [[678 143]\n",
            " [ 22  26]]\n",
            "model #: 10\n",
            "Accuracy: 0.7825086306098964\n",
            "Precision: 0.12105263157894737\n",
            "Recall: 0.5111111111111111\n",
            "F1 score: 0.19574468085106383\n",
            "Confusion matrix:\n",
            " [[657 167]\n",
            " [ 22  23]]\n",
            "model #: 11\n",
            "Accuracy: 0.7871116225546605\n",
            "Precision: 0.12234042553191489\n",
            "Recall: 0.5348837209302325\n",
            "F1 score: 0.19913419913419914\n",
            "Confusion matrix:\n",
            " [[661 165]\n",
            " [ 20  23]]\n",
            "model #: 12\n",
            "Accuracy: 0.7111622554660529\n",
            "Precision: 0.09266409266409266\n",
            "Recall: 0.6\n",
            "F1 score: 0.16053511705685616\n",
            "Confusion matrix:\n",
            " [[594 235]\n",
            " [ 16  24]]\n",
            "model #: 13\n",
            "Accuracy: 0.7433831990794016\n",
            "Precision: 0.08733624454148471\n",
            "Recall: 0.5882352941176471\n",
            "F1 score: 0.1520912547528517\n",
            "Confusion matrix:\n",
            " [[626 209]\n",
            " [ 14  20]]\n",
            "model #: 14\n",
            "Accuracy: 0.7364787111622555\n",
            "Precision: 0.11428571428571428\n",
            "Recall: 0.7\n",
            "F1 score: 0.1964912280701754\n",
            "Confusion matrix:\n",
            " [[612 217]\n",
            " [ 12  28]]\n",
            "model #: 15\n",
            "Accuracy: 0.8239355581127733\n",
            "Precision: 0.10457516339869281\n",
            "Recall: 0.5\n",
            "F1 score: 0.17297297297297298\n",
            "Confusion matrix:\n",
            " [[700 137]\n",
            " [ 16  16]]\n",
            "model #: 16\n",
            "Accuracy: 0.7963176064441887\n",
            "Precision: 0.1404494382022472\n",
            "Recall: 0.5102040816326531\n",
            "F1 score: 0.22026431718061676\n",
            "Confusion matrix:\n",
            " [[667 153]\n",
            " [ 24  25]]\n",
            "model #: 17\n",
            "Accuracy: 0.669735327963176\n",
            "Precision: 0.10355987055016182\n",
            "Recall: 0.7619047619047619\n",
            "F1 score: 0.18233618233618235\n",
            "Confusion matrix:\n",
            " [[550 277]\n",
            " [ 10  32]]\n",
            "model #: 18\n",
            "Accuracy: 0.7871116225546605\n",
            "Precision: 0.13131313131313133\n",
            "Recall: 0.6666666666666666\n",
            "F1 score: 0.21940928270042195\n",
            "Confusion matrix:\n",
            " [[658 172]\n",
            " [ 13  26]]\n",
            "model #: 19\n",
            "Accuracy: 0.7100115074798619\n",
            "Precision: 0.12544802867383512\n",
            "Recall: 0.813953488372093\n",
            "F1 score: 0.21739130434782608\n",
            "Confusion matrix:\n",
            " [[582 244]\n",
            " [  8  35]]\n",
            "model #: 20\n",
            "Accuracy: 0.6892980437284235\n",
            "Precision: 0.11683848797250859\n",
            "Recall: 0.723404255319149\n",
            "F1 score: 0.20118343195266272\n",
            "Confusion matrix:\n",
            " [[565 257]\n",
            " [ 13  34]]\n",
            "model #: 21\n",
            "Accuracy: 0.6927502876869965\n",
            "Precision: 0.1048951048951049\n",
            "Recall: 0.7317073170731707\n",
            "F1 score: 0.1834862385321101\n",
            "Confusion matrix:\n",
            " [[572 256]\n",
            " [ 11  30]]\n",
            "model #: 22\n",
            "Accuracy: 0.6501726121979287\n",
            "Precision: 0.08024691358024691\n",
            "Recall: 0.8125\n",
            "F1 score: 0.14606741573033707\n",
            "Confusion matrix:\n",
            " [[539 298]\n",
            " [  6  26]]\n",
            "model #: 23\n",
            "Accuracy: 0.7445339470655926\n",
            "Precision: 0.11016949152542373\n",
            "Recall: 0.6842105263157895\n",
            "F1 score: 0.18978102189781018\n",
            "Confusion matrix:\n",
            " [[621 210]\n",
            " [ 12  26]]\n",
            "model #: 24\n",
            "Accuracy: 0.8434982738780207\n",
            "Precision: 0.10687022900763359\n",
            "Recall: 0.42424242424242425\n",
            "F1 score: 0.17073170731707316\n",
            "Confusion matrix:\n",
            " [[719 117]\n",
            " [ 19  14]]\n",
            "model #: 25\n",
            "Accuracy: 0.859608745684695\n",
            "Precision: 0.15454545454545454\n",
            "Recall: 0.3695652173913043\n",
            "F1 score: 0.21794871794871795\n",
            "Confusion matrix:\n",
            " [[730  93]\n",
            " [ 29  17]]\n",
            "model #: 26\n",
            "Accuracy: 0.8043728423475259\n",
            "Precision: 0.1329479768786127\n",
            "Recall: 0.5348837209302325\n",
            "F1 score: 0.21296296296296294\n",
            "Confusion matrix:\n",
            " [[676 150]\n",
            " [ 20  23]]\n",
            "model #: 27\n",
            "Accuracy: 0.759493670886076\n",
            "Precision: 0.1111111111111111\n",
            "Recall: 0.7352941176470589\n",
            "F1 score: 0.19305019305019303\n",
            "Confusion matrix:\n",
            " [[635 200]\n",
            " [  9  25]]\n",
            "model #: 28\n",
            "Accuracy: 0.7744533947065593\n",
            "Precision: 0.13145539906103287\n",
            "Recall: 0.717948717948718\n",
            "F1 score: 0.22222222222222224\n",
            "Confusion matrix:\n",
            " [[645 185]\n",
            " [ 11  28]]\n",
            "model #: 29\n",
            "Accuracy: 0.9217491369390104\n",
            "Precision: 0.15151515151515152\n",
            "Recall: 0.1111111111111111\n",
            "F1 score: 0.1282051282051282\n",
            "Confusion matrix:\n",
            " [[796  28]\n",
            " [ 40   5]]\n",
            "model #: 30\n",
            "Accuracy: 0.8273878020713463\n",
            "Precision: 0.1282051282051282\n",
            "Recall: 0.5882352941176471\n",
            "F1 score: 0.21052631578947367\n",
            "Confusion matrix:\n",
            " [[699 136]\n",
            " [ 14  20]]\n",
            "model #: 31\n",
            "Accuracy: 0.6237054085155351\n",
            "Precision: 0.08262108262108261\n",
            "Recall: 0.8529411764705882\n",
            "F1 score: 0.15064935064935064\n",
            "Confusion matrix:\n",
            " [[513 322]\n",
            " [  5  29]]\n",
            "model #: 32\n",
            "Accuracy: 0.7640966628308401\n",
            "Precision: 0.11363636363636363\n",
            "Recall: 0.7142857142857143\n",
            "F1 score: 0.19607843137254902\n",
            "Confusion matrix:\n",
            " [[639 195]\n",
            " [ 10  25]]\n",
            "model #: 33\n",
            "Accuracy: 0.8504027617951668\n",
            "Precision: 0.11382113821138211\n",
            "Recall: 0.4\n",
            "F1 score: 0.17721518987341775\n",
            "Confusion matrix:\n",
            " [[725 109]\n",
            " [ 21  14]]\n",
            "model #: 34\n",
            "Accuracy: 0.7399309551208285\n",
            "Precision: 0.08695652173913043\n",
            "Recall: 0.5555555555555556\n",
            "F1 score: 0.15037593984962408\n",
            "Confusion matrix:\n",
            " [[623 210]\n",
            " [ 16  20]]\n"
          ]
        }
      ],
      "source": [
        "# Define parameters\n",
        "B = 35 \n",
        "epochs = 20\n",
        "\n",
        "models_stats = {}\n",
        "\n",
        "# Create a loop to generate B Bootstrap samples\n",
        "for i in range(B):\n",
        "    \n",
        "    #should I resample each time?(George: I think it's neat and in-line with the Bootstrapping/Bagging approach.)\n",
        "    X_train, X_test, y_train, y_test = train_test_split(X_traintest, y_traintest, test_size=0.2, random_state=46*i) # ahhhh!\n",
        "\n",
        "    # Generate SMOTE sampled data\n",
        "    sm = SMOTE(random_state=132)\n",
        "    X_resampled, y_resampled = sm.fit_resample(X_train, y_train)\n",
        "    \n",
        "    # Define neural network architecture\n",
        "    model = keras.Sequential([\n",
        "        keras.layers.Dense(6, activation='LeakyReLU', input_shape=(X_train.shape[1],)),\n",
        "        keras.layers.Dense(1, activation='sigmoid')\n",
        "    ])\n",
        "\n",
        "    # Compile model\n",
        "    model.compile(optimizer='adam',\n",
        "                  loss = 'BinaryFocalCrossentropy',\n",
        "                  metrics=['binary_accuracy'])\n",
        "    #                  loss= 'BinaryCrossentropy',\n",
        "    # Fit model\n",
        "    model.fit(X_resampled, y_resampled, epochs=epochs, verbose=0)\n",
        "    \n",
        "    # Evaluate model\n",
        "    # Get predicted probabilities\n",
        "    y_pred_prob = model.predict(X_test, verbose=0)\n",
        "\n",
        "    # Apply threshold to get predicted classes\n",
        "    y_pred = (y_pred_prob > 0.5).astype(int)\n",
        "    print('model #:', i)\n",
        "    print('Accuracy:', accuracy_score(y_test, y_pred))\n",
        "    p = precision_score(y_test, y_pred)\n",
        "    print('Precision:', p)\n",
        "    r = recall_score(y_test, y_pred)\n",
        "    print('Recall:', r)\n",
        "    f= f1_score(y_test, y_pred)\n",
        "    print('F1 score:', f)\n",
        "    cm = confusion_matrix(y_test, y_pred)\n",
        "    print('Confusion matrix:\\n', cm)\n",
        "\n",
        "    models_stats[i] = (model, p, r, f)"
      ]
    },
    {
      "cell_type": "markdown",
      "source": [
        "###Random Forests\n",
        "An alternative to neural networks are random forests. We also attempt to use a random forest classifier to predict strokes. We also use a gradient-boosted random forest."
      ],
      "metadata": {
        "id": "oqBcxkfy249W"
      }
    },
    {
      "cell_type": "code",
      "source": [
        "# Get data\n",
        "X_train, X_test, y_train, y_test = train_test_split(X_traintest, y_traintest, test_size=0.2, random_state=21)\n",
        "sm = SMOTE(random_state=132)\n",
        "X_resampled, y_resampled = sm.fit_resample(X_train, y_train)\n",
        "\n",
        "# Train random forest\n",
        "rf = RandomForestClassifier(n_estimators=1000, random_state=42, max_depth=1)\n",
        "rf.fit(X_resampled, y_resampled)\n",
        "\n",
        "# Predict on the test data\n",
        "y_pred = rf.predict(X_test)\n",
        "\n",
        "# Confusion matrix\n",
        "confusion_matrix = metrics.confusion_matrix(y_test.tolist(), y_pred)\n",
        "cm_display = metrics.ConfusionMatrixDisplay(confusion_matrix)\n",
        "cm_display.plot()\n",
        "plt.show()\n",
        "print(metrics.classification_report(y_test.tolist(), y_pred))"
      ],
      "metadata": {
        "id": "0VEpvEPo27xp",
        "colab": {
          "base_uri": "https://localhost:8080/",
          "height": 605
        },
        "outputId": "db78e1d6-f692-4f01-c8cb-01937e2f6eac"
      },
      "execution_count": 164,
      "outputs": [
        {
          "output_type": "display_data",
          "data": {
            "text/plain": [
              "<Figure size 640x480 with 2 Axes>"
            ],
            "image/png": "[encoded data removed]"
          },
          "metadata": {}
        },
        {
          "output_type": "stream",
          "name": "stdout",
          "text": [
            "              precision    recall  f1-score   support\n",
            "\n",
            "           0       0.99      0.69      0.81       832\n",
            "           1       0.10      0.78      0.18        37\n",
            "\n",
            "    accuracy                           0.69       869\n",
            "   macro avg       0.54      0.74      0.49       869\n",
            "weighted avg       0.95      0.69      0.78       869\n",
            "\n"
          ]
        }
      ]
    },
    {
      "cell_type": "code",
      "source": [
        "# Train gradient-boosted random forest\n",
        "clf = GradientBoostingClassifier(n_estimators=100, learning_rate=0.01, max_depth=1, random_state=42)\n",
        "clf.fit(X_resampled, y_resampled)\n",
        "y_pred = clf.predict(X_test)\n",
        "\n",
        "# Confusion matrix\n",
        "confusion_mat = metrics.confusion_matrix(y_test.tolist(), y_pred)\n",
        "cm_display = metrics.ConfusionMatrixDisplay(confusion_mat)\n",
        "cm_display.plot()\n",
        "plt.show()\n",
        "print(metrics.classification_report(y_test.tolist(), y_pred))\n"
      ],
      "metadata": {
        "id": "_zXPmIysJOsY",
        "colab": {
          "base_uri": "https://localhost:8080/",
          "height": 605
        },
        "outputId": "11b50912-969b-4eee-a71b-1052419b338a"
      },
      "execution_count": 165,
      "outputs": [
        {
          "output_type": "display_data",
          "data": {
            "text/plain": [
              "<Figure size 640x480 with 2 Axes>"
            ],
            "image/png": "[encoded data removed]"
          },
          "metadata": {}
        },
        {
          "output_type": "stream",
          "name": "stdout",
          "text": [
            "              precision    recall  f1-score   support\n",
            "\n",
            "           0       0.99      0.68      0.81       832\n",
            "           1       0.10      0.81      0.18        37\n",
            "\n",
            "    accuracy                           0.69       869\n",
            "   macro avg       0.54      0.75      0.49       869\n",
            "weighted avg       0.95      0.69      0.78       869\n",
            "\n"
          ]
        }
      ]
    },
    {
      "cell_type": "markdown",
      "source": [
        "###Ensemble\n",
        "We've now generated dozens of predictive models. Let's conglomerate them all into a single predictive function as an ensemble. We will input all the models' predictions as the inputs to a logistic regression model. We will treat the logisitc regression's output as our final prediction for whether a patient has a stroke or not.\n",
        "\n",
        "I.e., given a patient's information, we will predict the patient's stroke status using each of our 37 models (35 NN and 2 random forests). Then, we will feed these 37 predictions as inputs into a logistic regression model. The logistic regression will ensemble these predictions to formulate our final prediction."
      ],
      "metadata": {
        "id": "SHdM2ji4zTPc"
      }
    },
    {
      "cell_type": "code",
      "source": [
        "# Conglomerate the models\n",
        "models = [val[0] for val in models_stats.values()]\n",
        "models.append(clf)\n",
        "models.append(rf)\n",
        "\n",
        "# min_precision = .11 \n",
        "# min_recall = .6 \n",
        "# min_f1 = .2 \n",
        "\n",
        "#models = [val[0] for val in models_stats.values() if val[1] >= min_precision and val[2] >= min_recall and val[3] >= min_f1]\n",
        "# models = [val[0] for val in models_stats.values() if val[1] >= min_precision or val[2] >= min_recall or val[3] >= min_f1]\n",
        "\n",
        "print(f\"{len(models)} models selected\")"
      ],
      "metadata": {
        "id": "MaXZx5z7-f5N",
        "colab": {
          "base_uri": "https://localhost:8080/"
        },
        "outputId": "f241efd0-821a-40b0-c81f-33864c785cbc"
      },
      "execution_count": 166,
      "outputs": [
        {
          "output_type": "stream",
          "name": "stdout",
          "text": [
            "37 models selected\n"
          ]
        }
      ]
    },
    {
      "cell_type": "code",
      "source": [
        "# Train the Logistic Regression ensemble\n",
        "\n",
        "from sklearn.linear_model import LogisticRegression\n",
        "\n",
        "# Create an empty array to store the predictions of each model\n",
        "predictions = np.empty((X_train.shape[0], len(models)))\n",
        "\n",
        "# Make predictions for each model and store them in the predictions array\n",
        "for i, model in enumerate(models):\n",
        "    predictions[:, i] = model.predict(X_train).flatten()\n",
        "\n",
        "# Use logistic regression to combine the predictions\n",
        "ensemble_model = LogisticRegression(penalty= 'l2')\n",
        "ensemble_model.fit(predictions, y_train)\n",
        "print('trained')"
      ],
      "metadata": {
        "id": "siLF_mp1jcRV"
      },
      "execution_count": null,
      "outputs": []
    },
    {
      "cell_type": "code",
      "source": [
        "# Create an empty array to store the predictions of each model\n",
        "test_predictions = np.empty((X_test.shape[0], len(models)))\n",
        "\n",
        "# Make predictions for each model and store them in the predictions array\n",
        "for i, model in enumerate(models):\n",
        "    test_predictions[:, i] = model.predict(X_test).flatten()\n",
        "y_predp = ensemble_model.predict_proba(test_predictions)"
      ],
      "metadata": {
        "id": "kpFhxIojlUzB"
      },
      "execution_count": null,
      "outputs": []
    },
    {
      "cell_type": "markdown",
      "source": [
        "The logistic regression outputs a number between 0 and 1, where a prediction closer to 1 implies a higher chance of stroke. We now need to find a threshold $q$ such that all predictions higher than $q$ are treated as positive stroke predictions. Let's see how sensitive the classification is to our selection of the threshold $q$."
      ],
      "metadata": {
        "id": "MRGpA1zcjyN_"
      }
    },
    {
      "cell_type": "code",
      "source": [
        "# how we choose q\n",
        "import matplotlib.pyplot as plt\n",
        "\n",
        "y_true = y_predp[y_test == 1][:, 1]\n",
        "y_false = y_predp[y_test == 0][:, 1]\n",
        "plt.hist([y_true, y_false], density = True, bins = [n/100 for n in range(25)], cumulative = True, label=[\"True positives\", \"False positives\"])\n",
        "plt.legend()\n",
        "plt.xlabel(\"q threshold\")\n",
        "plt.ylabel(\"Proportion\")\n",
        "plt.title(\"True and false positive predictions based on logistic regression threshold\")\n",
        "plt.show()"
      ],
      "metadata": {
        "id": "NkyfSq66ofNE",
        "colab": {
          "base_uri": "https://localhost:8080/",
          "height": 472
        },
        "outputId": "08c26ac5-ad88-477f-b889-4a36460deec4"
      },
      "execution_count": 169,
      "outputs": [
        {
          "output_type": "display_data",
          "data": {
            "text/plain": [
              "<Figure size 640x480 with 1 Axes>"
            ],
            "image/png": "[encoded data removed]"
          },
          "metadata": {}
        }
      ]
    },
    {
      "cell_type": "code",
      "source": [
        "# plotting precision vs recall tradeoff\n",
        "\n",
        "# Create x and y arrays\n",
        "precision = [i[1] for i in models_stats.values()]\n",
        "accuracy = [i[2] for i in models_stats.values()]\n",
        "\n",
        "# Create labels array\n",
        "labels = [round(v[3], 2) for v in models_stats.values()]\n",
        "\n",
        "fig = px.scatter(x=precision, y=accuracy, title = 'recall vs. precision of models before filtering', text = labels)\n",
        "fig.update_traces(textposition='top center')\n",
        "fig.update_layout(xaxis_title='Precision', yaxis_title=\"Recall\", title='Recall vs Precision for our 37 models')\n",
        "fig.show()"
      ],
      "metadata": {
        "id": "D5wizROjGuY7",
        "colab": {
          "base_uri": "https://localhost:8080/",
          "height": 542
        },
        "outputId": "91537e3d-fffe-415d-e70b-0dce9dfccc14"
      },
      "execution_count": 170,
      "outputs": [
        {
          "output_type": "display_data",
          "data": {
            "text/html": [
              "<html>\n",
              "<head><meta charset=\"utf-8\" /></head>\n",
              "<body>\n",
              "    <div>            <script src=\"https://cdnjs.cloudflare.com/ajax/libs/mathjax/2.7.5/MathJax.js?config=TeX-AMS-MML_SVG\"></script><script type=\"text/javascript\">if (window.MathJax && window.MathJax.Hub && window.MathJax.Hub.Config) {window.MathJax.Hub.Config({SVG: {font: \"STIX-Web\"}});}</script>                <script type=\"text/javascript\">window.PlotlyConfig = {MathJaxConfig: 'local'};</script>\n",
              "        <script src=\"https://cdn.plot.ly/plotly-2.18.2.min.js\"></script>                <div id=\"11ac71e0-77f6-43b6-aa6a-1a1910fbf07d\" class=\"plotly-graph-div\" style=\"height:525px; width:100%;\"></div>            <script type=\"text/javascript\">                                    window.PLOTLYENV=window.PLOTLYENV || {};                                    if (document.getElementById(\"11ac71e0-77f6-43b6-aa6a-1a1910fbf07d\")) {                    Plotly.newPlot(                        \"11ac71e0-77f6-43b6-aa6a-1a1910fbf07d\",                        [{\"hovertemplate\":\"x=%{x}<br>y=%{y}<br>text=%{text}<extra></extra>\",\"legendgroup\":\"\",\"marker\":{\"color\":\"#636efa\",\"symbol\":\"circle\"},\"mode\":\"markers+text\",\"name\":\"\",\"orientation\":\"v\",\"showlegend\":false,\"text\":[0.17,0.21,0.18,0.12,0.23,0.15,0.12,0.22,0.17,0.24,0.2,0.2,0.16,0.15,0.2,0.17,0.22,0.18,0.22,0.22,0.2,0.18,0.15,0.19,0.17,0.22,0.21,0.19,0.22,0.13,0.21,0.15,0.2,0.18,0.15],\"x\":[0.09473684210526316,0.12582781456953643,0.11013215859030837,0.06896551724137931,0.13612565445026178,0.08900523560209424,0.07482993197278912,0.1336405529953917,0.10330578512396695,0.15384615384615385,0.12105263157894737,0.12234042553191489,0.09266409266409266,0.08733624454148471,0.11428571428571428,0.10457516339869281,0.1404494382022472,0.10355987055016182,0.13131313131313133,0.12544802867383512,0.11683848797250859,0.1048951048951049,0.08024691358024691,0.11016949152542373,0.10687022900763359,0.15454545454545454,0.1329479768786127,0.1111111111111111,0.13145539906103287,0.15151515151515152,0.1282051282051282,0.08262108262108261,0.11363636363636363,0.11382113821138211,0.08695652173913043],\"xaxis\":\"x\",\"y\":[0.7714285714285715,0.5757575757575758,0.5555555555555556,0.5806451612903226,0.7428571428571429,0.5666666666666667,0.3235294117647059,0.7073170731707317,0.5555555555555556,0.5416666666666666,0.5111111111111111,0.5348837209302325,0.6,0.5882352941176471,0.7,0.5,0.5102040816326531,0.7619047619047619,0.6666666666666666,0.813953488372093,0.723404255319149,0.7317073170731707,0.8125,0.6842105263157895,0.42424242424242425,0.3695652173913043,0.5348837209302325,0.7352941176470589,0.717948717948718,0.1111111111111111,0.5882352941176471,0.8529411764705882,0.7142857142857143,0.4,0.5555555555555556],\"yaxis\":\"y\",\"type\":\"scatter\",\"textposition\":\"top center\"}],                        {\"template\":{\"data\":{\"histogram2dcontour\":[{\"type\":\"histogram2dcontour\",\"colorbar\":{\"outlinewidth\":0,\"ticks\":\"\"},\"colorscale\":[[0.0,\"#0d0887\"],[0.1111111111111111,\"#46039f\"],[0.2222222222222222,\"#7201a8\"],[0.3333333333333333,\"#9c179e\"],[0.4444444444444444,\"#bd3786\"],[0.5555555555555556,\"#d8576b\"],[0.6666666666666666,\"#ed7953\"],[0.7777777777777778,\"#fb9f3a\"],[0.8888888888888888,\"#fdca26\"],[1.0,\"#f0f921\"]]}],\"choropleth\":[{\"type\":\"choropleth\",\"colorbar\":{\"outlinewidth\":0,\"ticks\":\"\"}}],\"histogram2d\":[{\"type\":\"histogram2d\",\"colorbar\":{\"outlinewidth\":0,\"ticks\":\"\"},\"colorscale\":[[0.0,\"#0d0887\"],[0.1111111111111111,\"#46039f\"],[0.2222222222222222,\"#7201a8\"],[0.3333333333333333,\"#9c179e\"],[0.4444444444444444,\"#bd3786\"],[0.5555555555555556,\"#d8576b\"],[0.6666666666666666,\"#ed7953\"],[0.7777777777777778,\"#fb9f3a\"],[0.8888888888888888,\"#fdca26\"],[1.0,\"#f0f921\"]]}],\"heatmap\":[{\"type\":\"heatmap\",\"colorbar\":{\"outlinewidth\":0,\"ticks\":\"\"},\"colorscale\":[[0.0,\"#0d0887\"],[0.1111111111111111,\"#46039f\"],[0.2222222222222222,\"#7201a8\"],[0.3333333333333333,\"#9c179e\"],[0.4444444444444444,\"#bd3786\"],[0.5555555555555556,\"#d8576b\"],[0.6666666666666666,\"#ed7953\"],[0.7777777777777778,\"#fb9f3a\"],[0.8888888888888888,\"#fdca26\"],[1.0,\"#f0f921\"]]}],\"heatmapgl\":[{\"type\":\"heatmapgl\",\"colorbar\":{\"outlinewidth\":0,\"ticks\":\"\"},\"colorscale\":[[0.0,\"#0d0887\"],[0.1111111111111111,\"#46039f\"],[0.2222222222222222,\"#7201a8\"],[0.3333333333333333,\"#9c179e\"],[0.4444444444444444,\"#bd3786\"],[0.5555555555555556,\"#d8576b\"],[0.6666666666666666,\"#ed7953\"],[0.7777777777777778,\"#fb9f3a\"],[0.8888888888888888,\"#fdca26\"],[1.0,\"#f0f921\"]]}],\"contourcarpet\":[{\"type\":\"contourcarpet\",\"colorbar\":{\"outlinewidth\":0,\"ticks\":\"\"}}],\"contour\":[{\"type\":\"contour\",\"colorbar\":{\"outlinewidth\":0,\"ticks\":\"\"},\"colorscale\":[[0.0,\"#0d0887\"],[0.1111111111111111,\"#46039f\"],[0.2222222222222222,\"#7201a8\"],[0.3333333333333333,\"#9c179e\"],[0.4444444444444444,\"#bd3786\"],[0.5555555555555556,\"#d8576b\"],[0.6666666666666666,\"#ed7953\"],[0.7777777777777778,\"#fb9f3a\"],[0.8888888888888888,\"#fdca26\"],[1.0,\"#f0f921\"]]}],\"surface\":[{\"type\":\"surface\",\"colorbar\":{\"outlinewidth\":0,\"ticks\":\"\"},\"colorscale\":[[0.0,\"#0d0887\"],[0.1111111111111111,\"#46039f\"],[0.2222222222222222,\"#7201a8\"],[0.3333333333333333,\"#9c179e\"],[0.4444444444444444,\"#bd3786\"],[0.5555555555555556,\"#d8576b\"],[0.6666666666666666,\"#ed7953\"],[0.7777777777777778,\"#fb9f3a\"],[0.8888888888888888,\"#fdca26\"],[1.0,\"#f0f921\"]]}],\"mesh3d\":[{\"type\":\"mesh3d\",\"colorbar\":{\"outlinewidth\":0,\"ticks\":\"\"}}],\"scatter\":[{\"fillpattern\":{\"fillmode\":\"overlay\",\"size\":10,\"solidity\":0.2},\"type\":\"scatter\"}],\"parcoords\":[{\"type\":\"parcoords\",\"line\":{\"colorbar\":{\"outlinewidth\":0,\"ticks\":\"\"}}}],\"scatterpolargl\":[{\"type\":\"scatterpolargl\",\"marker\":{\"colorbar\":{\"outlinewidth\":0,\"ticks\":\"\"}}}],\"bar\":[{\"error_x\":{\"color\":\"#2a3f5f\"},\"error_y\":{\"color\":\"#2a3f5f\"},\"marker\":{\"line\":{\"color\":\"#E5ECF6\",\"width\":0.5},\"pattern\":{\"fillmode\":\"overlay\",\"size\":10,\"solidity\":0.2}},\"type\":\"bar\"}],\"scattergeo\":[{\"type\":\"scattergeo\",\"marker\":{\"colorbar\":{\"outlinewidth\":0,\"ticks\":\"\"}}}],\"scatterpolar\":[{\"type\":\"scatterpolar\",\"marker\":{\"colorbar\":{\"outlinewidth\":0,\"ticks\":\"\"}}}],\"histogram\":[{\"marker\":{\"pattern\":{\"fillmode\":\"overlay\",\"size\":10,\"solidity\":0.2}},\"type\":\"histogram\"}],\"scattergl\":[{\"type\":\"scattergl\",\"marker\":{\"colorbar\":{\"outlinewidth\":0,\"ticks\":\"\"}}}],\"scatter3d\":[{\"type\":\"scatter3d\",\"line\":{\"colorbar\":{\"outlinewidth\":0,\"ticks\":\"\"}},\"marker\":{\"colorbar\":{\"outlinewidth\":0,\"ticks\":\"\"}}}],\"scattermapbox\":[{\"type\":\"scattermapbox\",\"marker\":{\"colorbar\":{\"outlinewidth\":0,\"ticks\":\"\"}}}],\"scatterternary\":[{\"type\":\"scatterternary\",\"marker\":{\"colorbar\":{\"outlinewidth\":0,\"ticks\":\"\"}}}],\"scattercarpet\":[{\"type\":\"scattercarpet\",\"marker\":{\"colorbar\":{\"outlinewidth\":0,\"ticks\":\"\"}}}],\"carpet\":[{\"aaxis\":{\"endlinecolor\":\"#2a3f5f\",\"gridcolor\":\"white\",\"linecolor\":\"white\",\"minorgridcolor\":\"white\",\"startlinecolor\":\"#2a3f5f\"},\"baxis\":{\"endlinecolor\":\"#2a3f5f\",\"gridcolor\":\"white\",\"linecolor\":\"white\",\"minorgridcolor\":\"white\",\"startlinecolor\":\"#2a3f5f\"},\"type\":\"carpet\"}],\"table\":[{\"cells\":{\"fill\":{\"color\":\"#EBF0F8\"},\"line\":{\"color\":\"white\"}},\"header\":{\"fill\":{\"color\":\"#C8D4E3\"},\"line\":{\"color\":\"white\"}},\"type\":\"table\"}],\"barpolar\":[{\"marker\":{\"line\":{\"color\":\"#E5ECF6\",\"width\":0.5},\"pattern\":{\"fillmode\":\"overlay\",\"size\":10,\"solidity\":0.2}},\"type\":\"barpolar\"}],\"pie\":[{\"automargin\":true,\"type\":\"pie\"}]},\"layout\":{\"autotypenumbers\":\"strict\",\"colorway\":[\"#636efa\",\"#EF553B\",\"#00cc96\",\"#ab63fa\",\"#FFA15A\",\"#19d3f3\",\"#FF6692\",\"#B6E880\",\"#FF97FF\",\"#FECB52\"],\"font\":{\"color\":\"#2a3f5f\"},\"hovermode\":\"closest\",\"hoverlabel\":{\"align\":\"left\"},\"paper_bgcolor\":\"white\",\"plot_bgcolor\":\"#E5ECF6\",\"polar\":{\"bgcolor\":\"#E5ECF6\",\"angularaxis\":{\"gridcolor\":\"white\",\"linecolor\":\"white\",\"ticks\":\"\"},\"radialaxis\":{\"gridcolor\":\"white\",\"linecolor\":\"white\",\"ticks\":\"\"}},\"ternary\":{\"bgcolor\":\"#E5ECF6\",\"aaxis\":{\"gridcolor\":\"white\",\"linecolor\":\"white\",\"ticks\":\"\"},\"baxis\":{\"gridcolor\":\"white\",\"linecolor\":\"white\",\"ticks\":\"\"},\"caxis\":{\"gridcolor\":\"white\",\"linecolor\":\"white\",\"ticks\":\"\"}},\"coloraxis\":{\"colorbar\":{\"outlinewidth\":0,\"ticks\":\"\"}},\"colorscale\":{\"sequential\":[[0.0,\"#0d0887\"],[0.1111111111111111,\"#46039f\"],[0.2222222222222222,\"#7201a8\"],[0.3333333333333333,\"#9c179e\"],[0.4444444444444444,\"#bd3786\"],[0.5555555555555556,\"#d8576b\"],[0.6666666666666666,\"#ed7953\"],[0.7777777777777778,\"#fb9f3a\"],[0.8888888888888888,\"#fdca26\"],[1.0,\"#f0f921\"]],\"sequentialminus\":[[0.0,\"#0d0887\"],[0.1111111111111111,\"#46039f\"],[0.2222222222222222,\"#7201a8\"],[0.3333333333333333,\"#9c179e\"],[0.4444444444444444,\"#bd3786\"],[0.5555555555555556,\"#d8576b\"],[0.6666666666666666,\"#ed7953\"],[0.7777777777777778,\"#fb9f3a\"],[0.8888888888888888,\"#fdca26\"],[1.0,\"#f0f921\"]],\"diverging\":[[0,\"#8e0152\"],[0.1,\"#c51b7d\"],[0.2,\"#de77ae\"],[0.3,\"#f1b6da\"],[0.4,\"#fde0ef\"],[0.5,\"#f7f7f7\"],[0.6,\"#e6f5d0\"],[0.7,\"#b8e186\"],[0.8,\"#7fbc41\"],[0.9,\"#4d9221\"],[1,\"#276419\"]]},\"xaxis\":{\"gridcolor\":\"white\",\"linecolor\":\"white\",\"ticks\":\"\",\"title\":{\"standoff\":15},\"zerolinecolor\":\"white\",\"automargin\":true,\"zerolinewidth\":2},\"yaxis\":{\"gridcolor\":\"white\",\"linecolor\":\"white\",\"ticks\":\"\",\"title\":{\"standoff\":15},\"zerolinecolor\":\"white\",\"automargin\":true,\"zerolinewidth\":2},\"scene\":{\"xaxis\":{\"backgroundcolor\":\"#E5ECF6\",\"gridcolor\":\"white\",\"linecolor\":\"white\",\"showbackground\":true,\"ticks\":\"\",\"zerolinecolor\":\"white\",\"gridwidth\":2},\"yaxis\":{\"backgroundcolor\":\"#E5ECF6\",\"gridcolor\":\"white\",\"linecolor\":\"white\",\"showbackground\":true,\"ticks\":\"\",\"zerolinecolor\":\"white\",\"gridwidth\":2},\"zaxis\":{\"backgroundcolor\":\"#E5ECF6\",\"gridcolor\":\"white\",\"linecolor\":\"white\",\"showbackground\":true,\"ticks\":\"\",\"zerolinecolor\":\"white\",\"gridwidth\":2}},\"shapedefaults\":{\"line\":{\"color\":\"#2a3f5f\"}},\"annotationdefaults\":{\"arrowcolor\":\"#2a3f5f\",\"arrowhead\":0,\"arrowwidth\":1},\"geo\":{\"bgcolor\":\"white\",\"landcolor\":\"#E5ECF6\",\"subunitcolor\":\"white\",\"showland\":true,\"showlakes\":true,\"lakecolor\":\"white\"},\"title\":{\"x\":0.05},\"mapbox\":{\"style\":\"light\"}}},\"xaxis\":{\"anchor\":\"y\",\"domain\":[0.0,1.0],\"title\":{\"text\":\"Precision\"}},\"yaxis\":{\"anchor\":\"x\",\"domain\":[0.0,1.0],\"title\":{\"text\":\"Recall\"}},\"legend\":{\"tracegroupgap\":0},\"title\":{\"text\":\"Recall vs Precision for our 37 models\"}},                        {\"responsive\": true}                    ).then(function(){\n",
              "                            \n",
              "var gd = document.getElementById('11ac71e0-77f6-43b6-aa6a-1a1910fbf07d');\n",
              "var x = new MutationObserver(function (mutations, observer) {{\n",
              "        var display = window.getComputedStyle(gd).display;\n",
              "        if (!display || display === 'none') {{\n",
              "            console.log([gd, 'removed!']);\n",
              "            Plotly.purge(gd);\n",
              "            observer.disconnect();\n",
              "        }}\n",
              "}});\n",
              "\n",
              "// Listen for the removal of the full notebook cells\n",
              "var notebookContainer = gd.closest('#notebook-container');\n",
              "if (notebookContainer) {{\n",
              "    x.observe(notebookContainer, {childList: true});\n",
              "}}\n",
              "\n",
              "// Listen for the clearing of the current output cell\n",
              "var outputEl = gd.closest('.output');\n",
              "if (outputEl) {{\n",
              "    x.observe(outputEl, {childList: true});\n",
              "}}\n",
              "\n",
              "                        })                };                            </script>        </div>\n",
              "</body>\n",
              "</html>"
            ]
          },
          "metadata": {}
        }
      ]
    },
    {
      "cell_type": "code",
      "source": [
        "# Show the classification metrics over each q threshold\n",
        "F = []\n",
        "B = []\n",
        "R = []\n",
        "P = []\n",
        "for q in np.linspace(.01,.3,30):\n",
        "    y_pred = (y_predp > q).astype(int)[:,1]\n",
        "    f1 = f1_score(y_test, y_pred, zero_division=0)\n",
        "    f0 = f1_score([1-y for y in y_test],[1-y for y in y_pred], zero_division=0)\n",
        "    w1 = sum(y_test)/y_test.size\n",
        "    w0 = 1 - w1\n",
        "    b = f1*w1 + f0*w0\n",
        "    r = recall_score(y_test, y_pred, zero_division=0)\n",
        "    p = precision_score(y_test, y_pred, zero_division=0)\n",
        "    F.append(f1)\n",
        "    B.append(b)\n",
        "    R.append(r)\n",
        "    P.append(p)\n",
        "\n",
        "df = pd.DataFrame({'q': np.linspace(.01,.3,30).tolist(), 'F1_score': F, 'Balanced F1 Score': B, 'Recall': R, 'Precision': P})\n",
        "fig = px.scatter(df, x = 'q', y = ['F1_score', 'Balanced F1 Score', 'Recall', 'Precision'], title = 'Classification Success vs. Q Threshold')\n",
        "fig.update_traces(mode='markers+lines')\n",
        "fig.show()"
      ],
      "metadata": {
        "colab": {
          "base_uri": "https://localhost:8080/",
          "height": 542
        },
        "id": "_SXhqp0quOl2",
        "outputId": "10a93254-89c8-4620-e5e5-dffc84409fe5"
      },
      "execution_count": 171,
      "outputs": [
        {
          "output_type": "display_data",
          "data": {
            "text/html": [
              "<html>\n",
              "<head><meta charset=\"utf-8\" /></head>\n",
              "<body>\n",
              "    <div>            <script src=\"https://cdnjs.cloudflare.com/ajax/libs/mathjax/2.7.5/MathJax.js?config=TeX-AMS-MML_SVG\"></script><script type=\"text/javascript\">if (window.MathJax && window.MathJax.Hub && window.MathJax.Hub.Config) {window.MathJax.Hub.Config({SVG: {font: \"STIX-Web\"}});}</script>                <script type=\"text/javascript\">window.PlotlyConfig = {MathJaxConfig: 'local'};</script>\n",
              "        <script src=\"https://cdn.plot.ly/plotly-2.18.2.min.js\"></script>                <div id=\"40219c42-c8ac-411a-b232-58cf4bf3f86d\" class=\"plotly-graph-div\" style=\"height:525px; width:100%;\"></div>            <script type=\"text/javascript\">                                    window.PLOTLYENV=window.PLOTLYENV || {};                                    if (document.getElementById(\"40219c42-c8ac-411a-b232-58cf4bf3f86d\")) {                    Plotly.newPlot(                        \"40219c42-c8ac-411a-b232-58cf4bf3f86d\",                        [{\"hovertemplate\":\"variable=F1_score<br>q=%{x}<br>value=%{y}<extra></extra>\",\"legendgroup\":\"F1_score\",\"marker\":{\"color\":\"#636efa\",\"symbol\":\"circle\"},\"mode\":\"markers+lines\",\"name\":\"F1_score\",\"orientation\":\"v\",\"showlegend\":true,\"x\":[0.01,0.019999999999999997,0.03,0.039999999999999994,0.049999999999999996,0.05999999999999999,0.06999999999999999,0.07999999999999999,0.08999999999999998,0.09999999999999998,0.10999999999999997,0.11999999999999998,0.12999999999999998,0.13999999999999999,0.15,0.15999999999999998,0.16999999999999998,0.18,0.18999999999999997,0.19999999999999998,0.20999999999999996,0.21999999999999997,0.22999999999999998,0.23999999999999996,0.24999999999999997,0.25999999999999995,0.26999999999999996,0.27999999999999997,0.29,0.3],\"xaxis\":\"x\",\"y\":[0.14798206278026907,0.17261904761904762,0.17737003058103978,0.17846153846153848,0.17283950617283952,0.17891373801916935,0.1911262798634812,0.1962264150943396,0.21367521367521367,0.20370370370370372,0.23204419889502761,0.21250000000000002,0.21428571428571427,0.23333333333333334,0.23762376237623764,0.25806451612903225,0.25,0.25,0.21875,0.24137931034482757,0.1923076923076923,0.047619047619047616,0.047619047619047616,0.05,0.05128205128205129,0.0,0.0,0.0,0.0,0.0],\"yaxis\":\"y\",\"type\":\"scatter\"},{\"hovertemplate\":\"variable=Balanced F1 Score<br>q=%{x}<br>value=%{y}<extra></extra>\",\"legendgroup\":\"Balanced F1 Score\",\"marker\":{\"color\":\"#EF553B\",\"symbol\":\"circle\"},\"mode\":\"markers+lines\",\"name\":\"Balanced F1 Score\",\"orientation\":\"v\",\"showlegend\":true,\"x\":[0.01,0.019999999999999997,0.03,0.039999999999999994,0.049999999999999996,0.05999999999999999,0.06999999999999999,0.07999999999999999,0.08999999999999998,0.09999999999999998,0.10999999999999997,0.11999999999999998,0.12999999999999998,0.13999999999999999,0.15,0.15999999999999998,0.16999999999999998,0.18,0.18999999999999997,0.19999999999999998,0.20999999999999996,0.21999999999999997,0.22999999999999998,0.23999999999999996,0.24999999999999997,0.25999999999999995,0.26999999999999996,0.27999999999999997,0.29,0.3],\"xaxis\":\"x\",\"y\":[0.6821282554314485,0.7749265314520194,0.7824466135195715,0.7841066047822478,0.7833180746244206,0.7923680995191575,0.8085295244925367,0.8273311910898331,0.8493886638244301,0.8578980252577618,0.8818290716147674,0.8900219101541479,0.9006409458477709,0.9129177743860664,0.9225052659994857,0.9282507558729725,0.9334193733767719,0.9370338469104559,0.9381393474007805,0.9426243478622351,0.9417599608373968,0.9368691176668249,0.9368691176668249,0.9381247958405002,0.9387555148799663,0.9360211196100994,0.9360211196100994,0.9365965596626638,0.9365965596626638,0.9365965596626638],\"yaxis\":\"y\",\"type\":\"scatter\"},{\"hovertemplate\":\"variable=Recall<br>q=%{x}<br>value=%{y}<extra></extra>\",\"legendgroup\":\"Recall\",\"marker\":{\"color\":\"#00cc96\",\"symbol\":\"circle\"},\"mode\":\"markers+lines\",\"name\":\"Recall\",\"orientation\":\"v\",\"showlegend\":true,\"x\":[0.01,0.019999999999999997,0.03,0.039999999999999994,0.049999999999999996,0.05999999999999999,0.06999999999999999,0.07999999999999999,0.08999999999999998,0.09999999999999998,0.10999999999999997,0.11999999999999998,0.12999999999999998,0.13999999999999999,0.15,0.15999999999999998,0.16999999999999998,0.18,0.18999999999999997,0.19999999999999998,0.20999999999999996,0.21999999999999997,0.22999999999999998,0.23999999999999996,0.24999999999999997,0.25999999999999995,0.26999999999999996,0.27999999999999997,0.29,0.3],\"xaxis\":\"x\",\"y\":[0.8918918918918919,0.7837837837837838,0.7837837837837838,0.7837837837837838,0.7567567567567568,0.7567567567567568,0.7567567567567568,0.7027027027027027,0.6756756756756757,0.5945945945945946,0.5675675675675675,0.4594594594594595,0.40540540540540543,0.3783783783783784,0.32432432432432434,0.32432432432432434,0.2702702702702703,0.24324324324324326,0.1891891891891892,0.1891891891891892,0.13513513513513514,0.02702702702702703,0.02702702702702703,0.02702702702702703,0.02702702702702703,0.0,0.0,0.0,0.0,0.0],\"yaxis\":\"y\",\"type\":\"scatter\"},{\"hovertemplate\":\"variable=Precision<br>q=%{x}<br>value=%{y}<extra></extra>\",\"legendgroup\":\"Precision\",\"marker\":{\"color\":\"#ab63fa\",\"symbol\":\"circle\"},\"mode\":\"markers+lines\",\"name\":\"Precision\",\"orientation\":\"v\",\"showlegend\":true,\"x\":[0.01,0.019999999999999997,0.03,0.039999999999999994,0.049999999999999996,0.05999999999999999,0.06999999999999999,0.07999999999999999,0.08999999999999998,0.09999999999999998,0.10999999999999997,0.11999999999999998,0.12999999999999998,0.13999999999999999,0.15,0.15999999999999998,0.16999999999999998,0.18,0.18999999999999997,0.19999999999999998,0.20999999999999996,0.21999999999999997,0.22999999999999998,0.23999999999999996,0.24999999999999997,0.25999999999999995,0.26999999999999996,0.27999999999999997,0.29,0.3],\"xaxis\":\"x\",\"y\":[0.08068459657701711,0.09698996655518395,0.1,0.10069444444444445,0.0975609756097561,0.10144927536231885,0.109375,0.11403508771929824,0.12690355329949238,0.12290502793296089,0.14583333333333334,0.13821138211382114,0.14563106796116504,0.1686746987951807,0.1875,0.21428571428571427,0.23255813953488372,0.2571428571428571,0.25925925925925924,0.3333333333333333,0.3333333333333333,0.2,0.2,0.3333333333333333,0.5,0.0,0.0,0.0,0.0,0.0],\"yaxis\":\"y\",\"type\":\"scatter\"}],                        {\"template\":{\"data\":{\"histogram2dcontour\":[{\"type\":\"histogram2dcontour\",\"colorbar\":{\"outlinewidth\":0,\"ticks\":\"\"},\"colorscale\":[[0.0,\"#0d0887\"],[0.1111111111111111,\"#46039f\"],[0.2222222222222222,\"#7201a8\"],[0.3333333333333333,\"#9c179e\"],[0.4444444444444444,\"#bd3786\"],[0.5555555555555556,\"#d8576b\"],[0.6666666666666666,\"#ed7953\"],[0.7777777777777778,\"#fb9f3a\"],[0.8888888888888888,\"#fdca26\"],[1.0,\"#f0f921\"]]}],\"choropleth\":[{\"type\":\"choropleth\",\"colorbar\":{\"outlinewidth\":0,\"ticks\":\"\"}}],\"histogram2d\":[{\"type\":\"histogram2d\",\"colorbar\":{\"outlinewidth\":0,\"ticks\":\"\"},\"colorscale\":[[0.0,\"#0d0887\"],[0.1111111111111111,\"#46039f\"],[0.2222222222222222,\"#7201a8\"],[0.3333333333333333,\"#9c179e\"],[0.4444444444444444,\"#bd3786\"],[0.5555555555555556,\"#d8576b\"],[0.6666666666666666,\"#ed7953\"],[0.7777777777777778,\"#fb9f3a\"],[0.8888888888888888,\"#fdca26\"],[1.0,\"#f0f921\"]]}],\"heatmap\":[{\"type\":\"heatmap\",\"colorbar\":{\"outlinewidth\":0,\"ticks\":\"\"},\"colorscale\":[[0.0,\"#0d0887\"],[0.1111111111111111,\"#46039f\"],[0.2222222222222222,\"#7201a8\"],[0.3333333333333333,\"#9c179e\"],[0.4444444444444444,\"#bd3786\"],[0.5555555555555556,\"#d8576b\"],[0.6666666666666666,\"#ed7953\"],[0.7777777777777778,\"#fb9f3a\"],[0.8888888888888888,\"#fdca26\"],[1.0,\"#f0f921\"]]}],\"heatmapgl\":[{\"type\":\"heatmapgl\",\"colorbar\":{\"outlinewidth\":0,\"ticks\":\"\"},\"colorscale\":[[0.0,\"#0d0887\"],[0.1111111111111111,\"#46039f\"],[0.2222222222222222,\"#7201a8\"],[0.3333333333333333,\"#9c179e\"],[0.4444444444444444,\"#bd3786\"],[0.5555555555555556,\"#d8576b\"],[0.6666666666666666,\"#ed7953\"],[0.7777777777777778,\"#fb9f3a\"],[0.8888888888888888,\"#fdca26\"],[1.0,\"#f0f921\"]]}],\"contourcarpet\":[{\"type\":\"contourcarpet\",\"colorbar\":{\"outlinewidth\":0,\"ticks\":\"\"}}],\"contour\":[{\"type\":\"contour\",\"colorbar\":{\"outlinewidth\":0,\"ticks\":\"\"},\"colorscale\":[[0.0,\"#0d0887\"],[0.1111111111111111,\"#46039f\"],[0.2222222222222222,\"#7201a8\"],[0.3333333333333333,\"#9c179e\"],[0.4444444444444444,\"#bd3786\"],[0.5555555555555556,\"#d8576b\"],[0.6666666666666666,\"#ed7953\"],[0.7777777777777778,\"#fb9f3a\"],[0.8888888888888888,\"#fdca26\"],[1.0,\"#f0f921\"]]}],\"surface\":[{\"type\":\"surface\",\"colorbar\":{\"outlinewidth\":0,\"ticks\":\"\"},\"colorscale\":[[0.0,\"#0d0887\"],[0.1111111111111111,\"#46039f\"],[0.2222222222222222,\"#7201a8\"],[0.3333333333333333,\"#9c179e\"],[0.4444444444444444,\"#bd3786\"],[0.5555555555555556,\"#d8576b\"],[0.6666666666666666,\"#ed7953\"],[0.7777777777777778,\"#fb9f3a\"],[0.8888888888888888,\"#fdca26\"],[1.0,\"#f0f921\"]]}],\"mesh3d\":[{\"type\":\"mesh3d\",\"colorbar\":{\"outlinewidth\":0,\"ticks\":\"\"}}],\"scatter\":[{\"fillpattern\":{\"fillmode\":\"overlay\",\"size\":10,\"solidity\":0.2},\"type\":\"scatter\"}],\"parcoords\":[{\"type\":\"parcoords\",\"line\":{\"colorbar\":{\"outlinewidth\":0,\"ticks\":\"\"}}}],\"scatterpolargl\":[{\"type\":\"scatterpolargl\",\"marker\":{\"colorbar\":{\"outlinewidth\":0,\"ticks\":\"\"}}}],\"bar\":[{\"error_x\":{\"color\":\"#2a3f5f\"},\"error_y\":{\"color\":\"#2a3f5f\"},\"marker\":{\"line\":{\"color\":\"#E5ECF6\",\"width\":0.5},\"pattern\":{\"fillmode\":\"overlay\",\"size\":10,\"solidity\":0.2}},\"type\":\"bar\"}],\"scattergeo\":[{\"type\":\"scattergeo\",\"marker\":{\"colorbar\":{\"outlinewidth\":0,\"ticks\":\"\"}}}],\"scatterpolar\":[{\"type\":\"scatterpolar\",\"marker\":{\"colorbar\":{\"outlinewidth\":0,\"ticks\":\"\"}}}],\"histogram\":[{\"marker\":{\"pattern\":{\"fillmode\":\"overlay\",\"size\":10,\"solidity\":0.2}},\"type\":\"histogram\"}],\"scattergl\":[{\"type\":\"scattergl\",\"marker\":{\"colorbar\":{\"outlinewidth\":0,\"ticks\":\"\"}}}],\"scatter3d\":[{\"type\":\"scatter3d\",\"line\":{\"colorbar\":{\"outlinewidth\":0,\"ticks\":\"\"}},\"marker\":{\"colorbar\":{\"outlinewidth\":0,\"ticks\":\"\"}}}],\"scattermapbox\":[{\"type\":\"scattermapbox\",\"marker\":{\"colorbar\":{\"outlinewidth\":0,\"ticks\":\"\"}}}],\"scatterternary\":[{\"type\":\"scatterternary\",\"marker\":{\"colorbar\":{\"outlinewidth\":0,\"ticks\":\"\"}}}],\"scattercarpet\":[{\"type\":\"scattercarpet\",\"marker\":{\"colorbar\":{\"outlinewidth\":0,\"ticks\":\"\"}}}],\"carpet\":[{\"aaxis\":{\"endlinecolor\":\"#2a3f5f\",\"gridcolor\":\"white\",\"linecolor\":\"white\",\"minorgridcolor\":\"white\",\"startlinecolor\":\"#2a3f5f\"},\"baxis\":{\"endlinecolor\":\"#2a3f5f\",\"gridcolor\":\"white\",\"linecolor\":\"white\",\"minorgridcolor\":\"white\",\"startlinecolor\":\"#2a3f5f\"},\"type\":\"carpet\"}],\"table\":[{\"cells\":{\"fill\":{\"color\":\"#EBF0F8\"},\"line\":{\"color\":\"white\"}},\"header\":{\"fill\":{\"color\":\"#C8D4E3\"},\"line\":{\"color\":\"white\"}},\"type\":\"table\"}],\"barpolar\":[{\"marker\":{\"line\":{\"color\":\"#E5ECF6\",\"width\":0.5},\"pattern\":{\"fillmode\":\"overlay\",\"size\":10,\"solidity\":0.2}},\"type\":\"barpolar\"}],\"pie\":[{\"automargin\":true,\"type\":\"pie\"}]},\"layout\":{\"autotypenumbers\":\"strict\",\"colorway\":[\"#636efa\",\"#EF553B\",\"#00cc96\",\"#ab63fa\",\"#FFA15A\",\"#19d3f3\",\"#FF6692\",\"#B6E880\",\"#FF97FF\",\"#FECB52\"],\"font\":{\"color\":\"#2a3f5f\"},\"hovermode\":\"closest\",\"hoverlabel\":{\"align\":\"left\"},\"paper_bgcolor\":\"white\",\"plot_bgcolor\":\"#E5ECF6\",\"polar\":{\"bgcolor\":\"#E5ECF6\",\"angularaxis\":{\"gridcolor\":\"white\",\"linecolor\":\"white\",\"ticks\":\"\"},\"radialaxis\":{\"gridcolor\":\"white\",\"linecolor\":\"white\",\"ticks\":\"\"}},\"ternary\":{\"bgcolor\":\"#E5ECF6\",\"aaxis\":{\"gridcolor\":\"white\",\"linecolor\":\"white\",\"ticks\":\"\"},\"baxis\":{\"gridcolor\":\"white\",\"linecolor\":\"white\",\"ticks\":\"\"},\"caxis\":{\"gridcolor\":\"white\",\"linecolor\":\"white\",\"ticks\":\"\"}},\"coloraxis\":{\"colorbar\":{\"outlinewidth\":0,\"ticks\":\"\"}},\"colorscale\":{\"sequential\":[[0.0,\"#0d0887\"],[0.1111111111111111,\"#46039f\"],[0.2222222222222222,\"#7201a8\"],[0.3333333333333333,\"#9c179e\"],[0.4444444444444444,\"#bd3786\"],[0.5555555555555556,\"#d8576b\"],[0.6666666666666666,\"#ed7953\"],[0.7777777777777778,\"#fb9f3a\"],[0.8888888888888888,\"#fdca26\"],[1.0,\"#f0f921\"]],\"sequentialminus\":[[0.0,\"#0d0887\"],[0.1111111111111111,\"#46039f\"],[0.2222222222222222,\"#7201a8\"],[0.3333333333333333,\"#9c179e\"],[0.4444444444444444,\"#bd3786\"],[0.5555555555555556,\"#d8576b\"],[0.6666666666666666,\"#ed7953\"],[0.7777777777777778,\"#fb9f3a\"],[0.8888888888888888,\"#fdca26\"],[1.0,\"#f0f921\"]],\"diverging\":[[0,\"#8e0152\"],[0.1,\"#c51b7d\"],[0.2,\"#de77ae\"],[0.3,\"#f1b6da\"],[0.4,\"#fde0ef\"],[0.5,\"#f7f7f7\"],[0.6,\"#e6f5d0\"],[0.7,\"#b8e186\"],[0.8,\"#7fbc41\"],[0.9,\"#4d9221\"],[1,\"#276419\"]]},\"xaxis\":{\"gridcolor\":\"white\",\"linecolor\":\"white\",\"ticks\":\"\",\"title\":{\"standoff\":15},\"zerolinecolor\":\"white\",\"automargin\":true,\"zerolinewidth\":2},\"yaxis\":{\"gridcolor\":\"white\",\"linecolor\":\"white\",\"ticks\":\"\",\"title\":{\"standoff\":15},\"zerolinecolor\":\"white\",\"automargin\":true,\"zerolinewidth\":2},\"scene\":{\"xaxis\":{\"backgroundcolor\":\"#E5ECF6\",\"gridcolor\":\"white\",\"linecolor\":\"white\",\"showbackground\":true,\"ticks\":\"\",\"zerolinecolor\":\"white\",\"gridwidth\":2},\"yaxis\":{\"backgroundcolor\":\"#E5ECF6\",\"gridcolor\":\"white\",\"linecolor\":\"white\",\"showbackground\":true,\"ticks\":\"\",\"zerolinecolor\":\"white\",\"gridwidth\":2},\"zaxis\":{\"backgroundcolor\":\"#E5ECF6\",\"gridcolor\":\"white\",\"linecolor\":\"white\",\"showbackground\":true,\"ticks\":\"\",\"zerolinecolor\":\"white\",\"gridwidth\":2}},\"shapedefaults\":{\"line\":{\"color\":\"#2a3f5f\"}},\"annotationdefaults\":{\"arrowcolor\":\"#2a3f5f\",\"arrowhead\":0,\"arrowwidth\":1},\"geo\":{\"bgcolor\":\"white\",\"landcolor\":\"#E5ECF6\",\"subunitcolor\":\"white\",\"showland\":true,\"showlakes\":true,\"lakecolor\":\"white\"},\"title\":{\"x\":0.05},\"mapbox\":{\"style\":\"light\"}}},\"xaxis\":{\"anchor\":\"y\",\"domain\":[0.0,1.0],\"title\":{\"text\":\"q\"}},\"yaxis\":{\"anchor\":\"x\",\"domain\":[0.0,1.0],\"title\":{\"text\":\"value\"}},\"legend\":{\"title\":{\"text\":\"variable\"},\"tracegroupgap\":0},\"title\":{\"text\":\"Classification Success vs. Q Threshold\"}},                        {\"responsive\": true}                    ).then(function(){\n",
              "                            \n",
              "var gd = document.getElementById('40219c42-c8ac-411a-b232-58cf4bf3f86d');\n",
              "var x = new MutationObserver(function (mutations, observer) {{\n",
              "        var display = window.getComputedStyle(gd).display;\n",
              "        if (!display || display === 'none') {{\n",
              "            console.log([gd, 'removed!']);\n",
              "            Plotly.purge(gd);\n",
              "            observer.disconnect();\n",
              "        }}\n",
              "}});\n",
              "\n",
              "// Listen for the removal of the full notebook cells\n",
              "var notebookContainer = gd.closest('#notebook-container');\n",
              "if (notebookContainer) {{\n",
              "    x.observe(notebookContainer, {childList: true});\n",
              "}}\n",
              "\n",
              "// Listen for the clearing of the current output cell\n",
              "var outputEl = gd.closest('.output');\n",
              "if (outputEl) {{\n",
              "    x.observe(outputEl, {childList: true});\n",
              "}}\n",
              "\n",
              "                        })                };                            </script>        </div>\n",
              "</body>\n",
              "</html>"
            ]
          },
          "metadata": {}
        }
      ]
    },
    {
      "cell_type": "markdown",
      "source": [
        "From the `Classification Success vs. Q Threshold` plot, we see that $q=0.7$ performs best. It has good recall before the recall curve declines, and the precision is reasonable. At $q=0.7$, the F1 score is close to 0.2, and the balanced F1-score is 0.8.\n",
        "\n",
        "Why do we care about the balanced F1 socre? F1 score can be biased towards the majority class, whereas the weighted F1 score takes into account the class imbalance and gives equal importance to all classes. Therefore, the weighted F1 score is can be a more appropriate measure of performance in such scenarios.\n",
        "\n",
        "How does our model do when we select $q = 0.7$ as our threshold for logistic regression predictions?"
      ],
      "metadata": {
        "id": "nWUyxpHh39KQ"
      }
    },
    {
      "cell_type": "code",
      "source": [
        "q= .07 # tune by hand\n",
        "y_pred = (y_predp > q).astype(int)[:,1]\n",
        "\n",
        "print(q)\n",
        "print('Testing:')\n",
        "print('Accuracy:', accuracy_score(y_test, y_pred))\n",
        "p = precision_score(y_test, y_pred)\n",
        "print('Precision:', p)\n",
        "r = recall_score(y_test, y_pred)\n",
        "print('Recall:', r)\n",
        "print('F1 score:', f1_score(y_test, y_pred))\n",
        "cm = metrics.confusion_matrix(y_test, y_pred)\n",
        "print('Confusion matrix:\\n', cm)"
      ],
      "metadata": {
        "id": "1UQ3kz9aEaUE",
        "colab": {
          "base_uri": "https://localhost:8080/"
        },
        "outputId": "27d41696-5cac-41bc-c7c8-8c103c65dac7"
      },
      "execution_count": 172,
      "outputs": [
        {
          "output_type": "stream",
          "name": "stdout",
          "text": [
            "0.07\n",
            "Testing:\n",
            "Accuracy: 0.7272727272727273\n",
            "Precision: 0.109375\n",
            "Recall: 0.7567567567567568\n",
            "F1 score: 0.1911262798634812\n",
            "Confusion matrix:\n",
            " [[604 228]\n",
            " [  9  28]]\n"
          ]
        }
      ]
    },
    {
      "cell_type": "markdown",
      "source": [
        "## Validation\n",
        "Our last step is to test our model on validation data that we have never touched before. We are hoping for a high balanced f1-score (.70-.90)"
      ],
      "metadata": {
        "id": "xZNNBmKc_Q8D"
      }
    },
    {
      "cell_type": "code",
      "source": [
        "# Ensemble validation\n",
        "\n",
        "# Create an empty array to store the predictions of each model\n",
        "validate_predictions = np.empty((X_validate.shape[0], len(models)))\n",
        "\n",
        "# Make predictions for each model and store them in the predictions array\n",
        "for i, model in enumerate(models):\n",
        "    validate_predictions[:, i] = model.predict(X_validate).flatten()\n",
        "y_predp = ensemble_model.predict_proba(validate_predictions)\n",
        "y_pred = (y_predp > q).astype(int)[:,1]\n",
        "\n",
        "print('Validating:')\n",
        "print('Accuracy:', accuracy_score(y_validate, y_pred))\n",
        "p = precision_score(y_validate, y_pred)\n",
        "print('Precision:', p)\n",
        "r = recall_score(y_validate, y_pred)\n",
        "print('Recall:', r)\n",
        "print('F1 score:', f1_score(y_validate, y_pred))\n",
        "f1 = f1_score(y_validate, y_pred)\n",
        "f0 = f1_score([1-y for y in y_validate],[1-y for y in y_pred])\n",
        "w1 = sum(y_validate)/y_validate.size\n",
        "w0 = 1 - w1\n",
        "balanced_f1 = f1*w1 + f0*w0\n",
        "print('Balanced F1 score:', balanced_f1)\n",
        "cm = metrics.confusion_matrix(y_validate, y_pred)\n",
        "print('Confusion matrix:\\n', cm)"
      ],
      "metadata": {
        "id": "N0KppYSxq2HO",
        "colab": {
          "base_uri": "https://localhost:8080/"
        },
        "outputId": "d9996dfb-4e65-4c2a-906b-676ff1d3e182"
      },
      "execution_count": 174,
      "outputs": [
        {
          "output_type": "stream",
          "name": "stdout",
          "text": [
            "24/24 [==============================] - 0s 7ms/step\n",
            "24/24 [==============================] - 0s 6ms/step\n",
            "24/24 [==============================] - 0s 6ms/step\n",
            "24/24 [==============================] - 0s 3ms/step\n",
            "24/24 [==============================] - 0s 5ms/step\n",
            "24/24 [==============================] - 0s 5ms/step\n",
            "24/24 [==============================] - 0s 8ms/step\n",
            "24/24 [==============================] - 0s 8ms/step\n",
            "24/24 [==============================] - 0s 3ms/step\n",
            "24/24 [==============================] - 0s 3ms/step\n",
            "24/24 [==============================] - 0s 4ms/step\n",
            "24/24 [==============================] - 0s 3ms/step\n",
            "24/24 [==============================] - 0s 6ms/step\n",
            "24/24 [==============================] - 0s 3ms/step\n",
            "24/24 [==============================] - 0s 5ms/step\n",
            "24/24 [==============================] - 0s 3ms/step\n",
            "24/24 [==============================] - 0s 4ms/step\n",
            "24/24 [==============================] - 0s 3ms/step\n",
            "24/24 [==============================] - 0s 3ms/step\n",
            "24/24 [==============================] - 0s 2ms/step\n",
            "24/24 [==============================] - 0s 4ms/step\n",
            "24/24 [==============================] - 0s 8ms/step\n",
            "24/24 [==============================] - 0s 6ms/step\n",
            "24/24 [==============================] - 0s 3ms/step\n",
            "24/24 [==============================] - 0s 2ms/step\n",
            "24/24 [==============================] - 0s 3ms/step\n",
            "24/24 [==============================] - 0s 3ms/step\n",
            "24/24 [==============================] - 0s 5ms/step\n",
            "24/24 [==============================] - 0s 3ms/step\n",
            "24/24 [==============================] - 0s 3ms/step\n",
            "24/24 [==============================] - 0s 1ms/step\n",
            "24/24 [==============================] - 0s 3ms/step\n",
            "24/24 [==============================] - 0s 4ms/step\n",
            "24/24 [==============================] - 0s 4ms/step\n",
            "24/24 [==============================] - 0s 6ms/step\n",
            "Validating:\n",
            "Accuracy: 0.7301173402868318\n",
            "Precision: 0.1581196581196581\n",
            "Recall: 0.7872340425531915\n",
            "F1 score: 0.26334519572953735\n",
            "Balanced F1 score: 0.7997792644945046\n",
            "Confusion matrix:\n",
            " [[523 197]\n",
            " [ 10  37]]\n"
          ]
        }
      ]
    },
    {
      "cell_type": "markdown",
      "source": [
        "And we also validate the components of the ensemble model to further inform us why/when our model performs well."
      ],
      "metadata": {
        "id": "JQXG0PCbk5C0"
      }
    },
    {
      "cell_type": "code",
      "source": [
        "# individual model validation because why not?\n",
        "\n",
        "for i, model in enumerate(models):\n",
        "    \n",
        "    ### comment this out to validate individual models ###\n",
        "    #break ### comment this out to validate individual models ###\n",
        "    ### comment this out to validate individual models ###\n",
        "\n",
        "    y_pred_prob = model.predict(X_validate)\n",
        "    y_pred_test_prob = model.predict(X_test)\n",
        "\n",
        "    # Apply threshold to get predicted classes\n",
        "    y_pred = (y_pred_prob > 0.5).astype(int)\n",
        "    y_pred_test = (y_pred_test_prob > 0.5).astype(int)\n",
        "    print('model #:', i)\n",
        "    print('Accuracy:', accuracy_score(y_validate, y_pred))\n",
        "    p = precision_score(y_validate, y_pred)\n",
        "    print('Precision:', p)\n",
        "    r = recall_score(y_validate, y_pred)\n",
        "    print('Recall:', r)\n",
        "    print('F1 score:', f1_score(y_validate, y_pred))\n",
        "    cm = metrics.confusion_matrix(y_validate, y_pred)\n",
        "    print('Confusion matrix:\\n', cm)"
      ],
      "metadata": {
        "id": "5yFQWPuo_GbS",
        "colab": {
          "base_uri": "https://localhost:8080/"
        },
        "outputId": "e7faeac4-9366-4008-f5d0-8829a4c689b6"
      },
      "execution_count": 176,
      "outputs": [
        {
          "output_type": "stream",
          "name": "stdout",
          "text": [
            "24/24 [==============================] - 0s 2ms/step\n",
            "28/28 [==============================] - 0s 4ms/step\n",
            "model #: 0\n",
            "Accuracy: 0.7092568448500652\n",
            "Precision: 0.13636363636363635\n",
            "Recall: 0.7021276595744681\n",
            "F1 score: 0.22837370242214533\n",
            "Confusion matrix:\n",
            " [[511 209]\n",
            " [ 14  33]]\n",
            "24/24 [==============================] - 0s 7ms/step\n",
            "28/28 [==============================] - 0s 5ms/step\n",
            "model #: 1\n",
            "Accuracy: 0.8305084745762712\n",
            "Precision: 0.18796992481203006\n",
            "Recall: 0.5319148936170213\n",
            "F1 score: 0.27777777777777773\n",
            "Confusion matrix:\n",
            " [[612 108]\n",
            " [ 22  25]]\n",
            "24/24 [==============================] - 0s 4ms/step\n",
            "28/28 [==============================] - 0s 4ms/step\n",
            "model #: 2\n",
            "Accuracy: 0.7653194263363755\n",
            "Precision: 0.1518324607329843\n",
            "Recall: 0.6170212765957447\n",
            "F1 score: 0.24369747899159663\n",
            "Confusion matrix:\n",
            " [[558 162]\n",
            " [ 18  29]]\n",
            "24/24 [==============================] - 0s 5ms/step\n",
            "28/28 [==============================] - 0s 3ms/step\n",
            "model #: 3\n",
            "Accuracy: 0.7405475880052151\n",
            "Precision: 0.14814814814814814\n",
            "Recall: 0.6808510638297872\n",
            "F1 score: 0.24334600760456274\n",
            "Confusion matrix:\n",
            " [[536 184]\n",
            " [ 15  32]]\n",
            "24/24 [==============================] - 0s 2ms/step\n",
            "28/28 [==============================] - 0s 2ms/step\n",
            "model #: 4\n",
            "Accuracy: 0.7770534550195567\n",
            "Precision: 0.1702127659574468\n",
            "Recall: 0.6808510638297872\n",
            "F1 score: 0.2723404255319149\n",
            "Confusion matrix:\n",
            " [[564 156]\n",
            " [ 15  32]]\n",
            "24/24 [==============================] - 0s 1ms/step\n",
            "28/28 [==============================] - 0s 1ms/step\n",
            "model #: 5\n",
            "Accuracy: 0.7783572359843546\n",
            "Precision: 0.1564245810055866\n",
            "Recall: 0.5957446808510638\n",
            "F1 score: 0.247787610619469\n",
            "Confusion matrix:\n",
            " [[569 151]\n",
            " [ 19  28]]\n",
            "24/24 [==============================] - 0s 2ms/step\n",
            "28/28 [==============================] - 0s 1ms/step\n",
            "model #: 6\n",
            "Accuracy: 0.8252933507170795\n",
            "Precision: 0.16793893129770993\n",
            "Recall: 0.46808510638297873\n",
            "F1 score: 0.24719101123595502\n",
            "Confusion matrix:\n",
            " [[611 109]\n",
            " [ 25  22]]\n",
            "24/24 [==============================] - 0s 2ms/step\n",
            "28/28 [==============================] - 0s 1ms/step\n",
            "model #: 7\n",
            "Accuracy: 0.7470664928292047\n",
            "Precision: 0.14832535885167464\n",
            "Recall: 0.6595744680851063\n",
            "F1 score: 0.24218749999999997\n",
            "Confusion matrix:\n",
            " [[542 178]\n",
            " [ 16  31]]\n",
            "24/24 [==============================] - 0s 1ms/step\n",
            "28/28 [==============================] - 0s 1ms/step\n",
            "model #: 8\n",
            "Accuracy: 0.7483702737940026\n",
            "Precision: 0.14563106796116504\n",
            "Recall: 0.6382978723404256\n",
            "F1 score: 0.23715415019762845\n",
            "Confusion matrix:\n",
            " [[544 176]\n",
            " [ 17  30]]\n",
            "24/24 [==============================] - 0s 1ms/step\n",
            "28/28 [==============================] - 0s 1ms/step\n",
            "model #: 9\n",
            "Accuracy: 0.788787483702738\n",
            "Precision: 0.1676300578034682\n",
            "Recall: 0.6170212765957447\n",
            "F1 score: 0.26363636363636367\n",
            "Confusion matrix:\n",
            " [[576 144]\n",
            " [ 18  29]]\n",
            "24/24 [==============================] - 0s 1ms/step\n",
            "28/28 [==============================] - 0s 1ms/step\n",
            "model #: 10\n",
            "Accuracy: 0.7666232073011734\n",
            "Precision: 0.14893617021276595\n",
            "Recall: 0.5957446808510638\n",
            "F1 score: 0.23829787234042552\n",
            "Confusion matrix:\n",
            " [[560 160]\n",
            " [ 19  28]]\n",
            "24/24 [==============================] - 0s 1ms/step\n",
            "28/28 [==============================] - 0s 1ms/step\n",
            "model #: 11\n",
            "Accuracy: 0.7783572359843546\n",
            "Precision: 0.15254237288135594\n",
            "Recall: 0.574468085106383\n",
            "F1 score: 0.24107142857142858\n",
            "Confusion matrix:\n",
            " [[570 150]\n",
            " [ 20  27]]\n",
            "24/24 [==============================] - 0s 2ms/step\n",
            "28/28 [==============================] - 0s 1ms/step\n",
            "model #: 12\n",
            "Accuracy: 0.7405475880052151\n",
            "Precision: 0.15137614678899083\n",
            "Recall: 0.7021276595744681\n",
            "F1 score: 0.24905660377358493\n",
            "Confusion matrix:\n",
            " [[535 185]\n",
            " [ 14  33]]\n",
            "24/24 [==============================] - 0s 1ms/step\n",
            "28/28 [==============================] - 0s 2ms/step\n",
            "model #: 13\n",
            "Accuracy: 0.7548891786179922\n",
            "Precision: 0.15609756097560976\n",
            "Recall: 0.6808510638297872\n",
            "F1 score: 0.25396825396825395\n",
            "Confusion matrix:\n",
            " [[547 173]\n",
            " [ 15  32]]\n",
            "24/24 [==============================] - 0s 1ms/step\n",
            "28/28 [==============================] - 0s 1ms/step\n",
            "model #: 14\n",
            "Accuracy: 0.7379400260756193\n",
            "Precision: 0.15\n",
            "Recall: 0.7021276595744681\n",
            "F1 score: 0.24719101123595505\n",
            "Confusion matrix:\n",
            " [[533 187]\n",
            " [ 14  33]]\n",
            "24/24 [==============================] - 0s 1ms/step\n",
            "28/28 [==============================] - 0s 2ms/step\n",
            "model #: 15\n",
            "Accuracy: 0.8252933507170795\n",
            "Precision: 0.18248175182481752\n",
            "Recall: 0.5319148936170213\n",
            "F1 score: 0.2717391304347826\n",
            "Confusion matrix:\n",
            " [[608 112]\n",
            " [ 22  25]]\n",
            "24/24 [==============================] - 0s 2ms/step\n",
            "28/28 [==============================] - 0s 1ms/step\n",
            "model #: 16\n",
            "Accuracy: 0.8083441981747066\n",
            "Precision: 0.16666666666666666\n",
            "Recall: 0.5319148936170213\n",
            "F1 score: 0.25380710659898476\n",
            "Confusion matrix:\n",
            " [[595 125]\n",
            " [ 22  25]]\n",
            "24/24 [==============================] - 0s 1ms/step\n",
            "28/28 [==============================] - 0s 2ms/step\n",
            "model #: 17\n",
            "Accuracy: 0.6988265971316818\n",
            "Precision: 0.1349206349206349\n",
            "Recall: 0.723404255319149\n",
            "F1 score: 0.22742474916387959\n",
            "Confusion matrix:\n",
            " [[502 218]\n",
            " [ 13  34]]\n",
            "24/24 [==============================] - 0s 1ms/step\n",
            "28/28 [==============================] - 0s 1ms/step\n",
            "model #: 18\n",
            "Accuracy: 0.7744458930899609\n",
            "Precision: 0.15\n",
            "Recall: 0.574468085106383\n",
            "F1 score: 0.23788546255506604\n",
            "Confusion matrix:\n",
            " [[567 153]\n",
            " [ 20  27]]\n",
            "24/24 [==============================] - 0s 1ms/step\n",
            "28/28 [==============================] - 0s 2ms/step\n",
            "model #: 19\n",
            "Accuracy: 0.7405475880052151\n",
            "Precision: 0.15454545454545454\n",
            "Recall: 0.723404255319149\n",
            "F1 score: 0.2546816479400749\n",
            "Confusion matrix:\n",
            " [[534 186]\n",
            " [ 13  34]]\n",
            "24/24 [==============================] - 0s 1ms/step\n",
            "28/28 [==============================] - 0s 1ms/step\n",
            "model #: 20\n",
            "Accuracy: 0.7014341590612777\n",
            "Precision: 0.1388888888888889\n",
            "Recall: 0.7446808510638298\n",
            "F1 score: 0.23411371237458192\n",
            "Confusion matrix:\n",
            " [[503 217]\n",
            " [ 12  35]]\n",
            "24/24 [==============================] - 0s 2ms/step\n",
            "28/28 [==============================] - 0s 1ms/step\n",
            "model #: 21\n",
            "Accuracy: 0.7235984354628422\n",
            "Precision: 0.14893617021276595\n",
            "Recall: 0.7446808510638298\n",
            "F1 score: 0.2482269503546099\n",
            "Confusion matrix:\n",
            " [[520 200]\n",
            " [ 12  35]]\n",
            "24/24 [==============================] - 0s 1ms/step\n",
            "28/28 [==============================] - 0s 1ms/step\n",
            "model #: 22\n",
            "Accuracy: 0.6740547588005215\n",
            "Precision: 0.1282051282051282\n",
            "Recall: 0.7446808510638298\n",
            "F1 score: 0.21874999999999997\n",
            "Confusion matrix:\n",
            " [[482 238]\n",
            " [ 12  35]]\n",
            "24/24 [==============================] - 0s 1ms/step\n",
            "28/28 [==============================] - 0s 1ms/step\n",
            "model #: 23\n",
            "Accuracy: 0.7692307692307693\n",
            "Precision: 0.16145833333333334\n",
            "Recall: 0.6595744680851063\n",
            "F1 score: 0.2594142259414226\n",
            "Confusion matrix:\n",
            " [[559 161]\n",
            " [ 16  31]]\n",
            "24/24 [==============================] - 0s 1ms/step\n",
            "28/28 [==============================] - 0s 2ms/step\n",
            "model #: 24\n",
            "Accuracy: 0.8252933507170795\n",
            "Precision: 0.152\n",
            "Recall: 0.40425531914893614\n",
            "F1 score: 0.22093023255813954\n",
            "Confusion matrix:\n",
            " [[614 106]\n",
            " [ 28  19]]\n",
            "24/24 [==============================] - 0s 2ms/step\n",
            "28/28 [==============================] - 0s 1ms/step\n",
            "model #: 25\n",
            "Accuracy: 0.847457627118644\n",
            "Precision: 0.16346153846153846\n",
            "Recall: 0.3617021276595745\n",
            "F1 score: 0.22516556291390727\n",
            "Confusion matrix:\n",
            " [[633  87]\n",
            " [ 30  17]]\n",
            "24/24 [==============================] - 0s 1ms/step\n",
            "28/28 [==============================] - 0s 1ms/step\n",
            "model #: 26\n",
            "Accuracy: 0.7992177314211213\n",
            "Precision: 0.16352201257861634\n",
            "Recall: 0.5531914893617021\n",
            "F1 score: 0.2524271844660194\n",
            "Confusion matrix:\n",
            " [[587 133]\n",
            " [ 21  26]]\n",
            "24/24 [==============================] - 0s 1ms/step\n",
            "28/28 [==============================] - 0s 1ms/step\n",
            "model #: 27\n",
            "Accuracy: 0.758800521512386\n",
            "Precision: 0.16176470588235295\n",
            "Recall: 0.7021276595744681\n",
            "F1 score: 0.2629482071713148\n",
            "Confusion matrix:\n",
            " [[549 171]\n",
            " [ 14  33]]\n",
            "24/24 [==============================] - 0s 1ms/step\n",
            "28/28 [==============================] - 0s 1ms/step\n",
            "model #: 28\n",
            "Accuracy: 0.7861799217731421\n",
            "Precision: 0.1657142857142857\n",
            "Recall: 0.6170212765957447\n",
            "F1 score: 0.26126126126126126\n",
            "Confusion matrix:\n",
            " [[574 146]\n",
            " [ 18  29]]\n",
            "24/24 [==============================] - 0s 1ms/step\n",
            "28/28 [==============================] - 0s 1ms/step\n",
            "model #: 29\n",
            "Accuracy: 0.9191655801825294\n",
            "Precision: 0.2222222222222222\n",
            "Recall: 0.1276595744680851\n",
            "F1 score: 0.16216216216216217\n",
            "Confusion matrix:\n",
            " [[699  21]\n",
            " [ 41   6]]\n",
            "24/24 [==============================] - 0s 2ms/step\n",
            "28/28 [==============================] - 0s 1ms/step\n",
            "model #: 30\n",
            "Accuracy: 0.817470664928292\n",
            "Precision: 0.1836734693877551\n",
            "Recall: 0.574468085106383\n",
            "F1 score: 0.2783505154639176\n",
            "Confusion matrix:\n",
            " [[600 120]\n",
            " [ 20  27]]\n",
            "24/24 [==============================] - 0s 2ms/step\n",
            "28/28 [==============================] - 0s 1ms/step\n",
            "model #: 31\n",
            "Accuracy: 0.6558018252933507\n",
            "Precision: 0.1245674740484429\n",
            "Recall: 0.7659574468085106\n",
            "F1 score: 0.21428571428571427\n",
            "Confusion matrix:\n",
            " [[467 253]\n",
            " [ 11  36]]\n",
            "24/24 [==============================] - 0s 1ms/step\n",
            "28/28 [==============================] - 0s 1ms/step\n",
            "model #: 32\n",
            "Accuracy: 0.7561929595827901\n",
            "Precision: 0.15346534653465346\n",
            "Recall: 0.6595744680851063\n",
            "F1 score: 0.24899598393574296\n",
            "Confusion matrix:\n",
            " [[549 171]\n",
            " [ 16  31]]\n",
            "24/24 [==============================] - 0s 1ms/step\n",
            "28/28 [==============================] - 0s 1ms/step\n",
            "model #: 33\n",
            "Accuracy: 0.848761408083442\n",
            "Precision: 0.17757009345794392\n",
            "Recall: 0.40425531914893614\n",
            "F1 score: 0.24675324675324672\n",
            "Confusion matrix:\n",
            " [[632  88]\n",
            " [ 28  19]]\n",
            "24/24 [==============================] - 0s 2ms/step\n",
            "28/28 [==============================] - 0s 1ms/step\n",
            "model #: 34\n",
            "Accuracy: 0.7770534550195567\n",
            "Precision: 0.15555555555555556\n",
            "Recall: 0.5957446808510638\n",
            "F1 score: 0.24669603524229075\n",
            "Confusion matrix:\n",
            " [[568 152]\n",
            " [ 19  28]]\n",
            "model #: 35\n",
            "Accuracy: 0.6649282920469362\n",
            "Precision: 0.13793103448275862\n",
            "Recall: 0.851063829787234\n",
            "F1 score: 0.23738872403560832\n",
            "Confusion matrix:\n",
            " [[470 250]\n",
            " [  7  40]]\n",
            "model #: 36\n",
            "Accuracy: 0.6857887874837028\n",
            "Precision: 0.14338235294117646\n",
            "Recall: 0.8297872340425532\n",
            "F1 score: 0.2445141065830721\n",
            "Confusion matrix:\n",
            " [[487 233]\n",
            " [  8  39]]\n"
          ]
        }
      ]
    },
    {
      "cell_type": "markdown",
      "source": [
        "##Observations and Future Work\n",
        "There were some observations we had that we would have liked to demonstrate here, if we had more time. Specifically, oversampling via SMOTE was highly effective. We also tried oversampling via ADASYN, which had little difference compared to SMOTE. When we did not oversample, we encountered numerous issues: models would either predict all patients to have strokes, or predict no patients to have strokes.\n",
        "\n",
        "We added Framington Risk Factor as a predictive feature, which increased the model performance substantially. The model F1 scores generally increased by about 0.06 after we added Framington Risk Factor.\n",
        "\n",
        "We also considered using a neural network to conglomerate all our component models into an ensemble instead of using a logistic regression.\n",
        "\n",
        "Finally for future work, we would like to do one thing we weren't allowed to do in this exercise: review the literature and build off established techniques. Of course, without this step, the exercise is much more valuable, but it would be an interesting next step.\n",
        "\n",
        "In conclusion, we made an ensemble model of neural networks and random forests on augmented healthcare data in order to predict strokes with a balanced F1-score of ~80.0 on our validation data."
      ],
      "metadata": {
        "id": "tFL6rgRu6LdD"
      }
    }
  ]
}
